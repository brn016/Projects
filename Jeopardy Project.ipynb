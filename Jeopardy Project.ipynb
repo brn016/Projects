{
 "cells": [
  {
   "cell_type": "code",
   "execution_count": 1,
   "metadata": {
    "collapsed": true
   },
   "outputs": [],
   "source": [
    "import numpy as np\n",
    "import pandas as pd\n",
    "import matplotlib.pyplot as plt"
   ]
  },
  {
   "cell_type": "code",
   "execution_count": 2,
   "metadata": {
    "collapsed": true
   },
   "outputs": [],
   "source": [
    "df = pd.read_csv('JEOPARDY_CSV.csv')"
   ]
  },
  {
   "cell_type": "code",
   "execution_count": 3,
   "metadata": {},
   "outputs": [
    {
     "data": {
      "text/html": [
       "<div>\n",
       "<style>\n",
       "    .dataframe thead tr:only-child th {\n",
       "        text-align: right;\n",
       "    }\n",
       "\n",
       "    .dataframe thead th {\n",
       "        text-align: left;\n",
       "    }\n",
       "\n",
       "    .dataframe tbody tr th {\n",
       "        vertical-align: top;\n",
       "    }\n",
       "</style>\n",
       "<table border=\"1\" class=\"dataframe\">\n",
       "  <thead>\n",
       "    <tr style=\"text-align: right;\">\n",
       "      <th></th>\n",
       "      <th>Show Number</th>\n",
       "      <th>Air Date</th>\n",
       "      <th>Round</th>\n",
       "      <th>Category</th>\n",
       "      <th>Value</th>\n",
       "      <th>Question</th>\n",
       "      <th>Answer</th>\n",
       "    </tr>\n",
       "  </thead>\n",
       "  <tbody>\n",
       "    <tr>\n",
       "      <th>0</th>\n",
       "      <td>4680</td>\n",
       "      <td>2004-12-31</td>\n",
       "      <td>Jeopardy!</td>\n",
       "      <td>HISTORY</td>\n",
       "      <td>$200</td>\n",
       "      <td>For the last 8 years of his life, Galileo was ...</td>\n",
       "      <td>Copernicus</td>\n",
       "    </tr>\n",
       "    <tr>\n",
       "      <th>1</th>\n",
       "      <td>4680</td>\n",
       "      <td>2004-12-31</td>\n",
       "      <td>Jeopardy!</td>\n",
       "      <td>ESPN's TOP 10 ALL-TIME ATHLETES</td>\n",
       "      <td>$200</td>\n",
       "      <td>No. 2: 1912 Olympian; football star at Carlisl...</td>\n",
       "      <td>Jim Thorpe</td>\n",
       "    </tr>\n",
       "    <tr>\n",
       "      <th>2</th>\n",
       "      <td>4680</td>\n",
       "      <td>2004-12-31</td>\n",
       "      <td>Jeopardy!</td>\n",
       "      <td>EVERYBODY TALKS ABOUT IT...</td>\n",
       "      <td>$200</td>\n",
       "      <td>The city of Yuma in this state has a record av...</td>\n",
       "      <td>Arizona</td>\n",
       "    </tr>\n",
       "    <tr>\n",
       "      <th>3</th>\n",
       "      <td>4680</td>\n",
       "      <td>2004-12-31</td>\n",
       "      <td>Jeopardy!</td>\n",
       "      <td>THE COMPANY LINE</td>\n",
       "      <td>$200</td>\n",
       "      <td>In 1963, live on \"The Art Linkletter Show\", th...</td>\n",
       "      <td>McDonald's</td>\n",
       "    </tr>\n",
       "    <tr>\n",
       "      <th>4</th>\n",
       "      <td>4680</td>\n",
       "      <td>2004-12-31</td>\n",
       "      <td>Jeopardy!</td>\n",
       "      <td>EPITAPHS &amp; TRIBUTES</td>\n",
       "      <td>$200</td>\n",
       "      <td>Signer of the Dec. of Indep., framer of the Co...</td>\n",
       "      <td>John Adams</td>\n",
       "    </tr>\n",
       "  </tbody>\n",
       "</table>\n",
       "</div>"
      ],
      "text/plain": [
       "   Show Number    Air Date      Round                         Category  Value  \\\n",
       "0         4680  2004-12-31  Jeopardy!                          HISTORY   $200   \n",
       "1         4680  2004-12-31  Jeopardy!  ESPN's TOP 10 ALL-TIME ATHLETES   $200   \n",
       "2         4680  2004-12-31  Jeopardy!      EVERYBODY TALKS ABOUT IT...   $200   \n",
       "3         4680  2004-12-31  Jeopardy!                 THE COMPANY LINE   $200   \n",
       "4         4680  2004-12-31  Jeopardy!              EPITAPHS & TRIBUTES   $200   \n",
       "\n",
       "                                            Question      Answer  \n",
       "0  For the last 8 years of his life, Galileo was ...  Copernicus  \n",
       "1  No. 2: 1912 Olympian; football star at Carlisl...  Jim Thorpe  \n",
       "2  The city of Yuma in this state has a record av...     Arizona  \n",
       "3  In 1963, live on \"The Art Linkletter Show\", th...  McDonald's  \n",
       "4  Signer of the Dec. of Indep., framer of the Co...  John Adams  "
      ]
     },
     "execution_count": 3,
     "metadata": {},
     "output_type": "execute_result"
    }
   ],
   "source": [
    "df.head(5)"
   ]
  },
  {
   "cell_type": "code",
   "execution_count": 4,
   "metadata": {},
   "outputs": [
    {
     "data": {
      "text/html": [
       "<div>\n",
       "<style>\n",
       "    .dataframe thead tr:only-child th {\n",
       "        text-align: right;\n",
       "    }\n",
       "\n",
       "    .dataframe thead th {\n",
       "        text-align: left;\n",
       "    }\n",
       "\n",
       "    .dataframe tbody tr th {\n",
       "        vertical-align: top;\n",
       "    }\n",
       "</style>\n",
       "<table border=\"1\" class=\"dataframe\">\n",
       "  <thead>\n",
       "    <tr style=\"text-align: right;\">\n",
       "      <th></th>\n",
       "      <th>Show Number</th>\n",
       "      <th>Air Date</th>\n",
       "      <th>Round</th>\n",
       "      <th>Category</th>\n",
       "      <th>Value</th>\n",
       "      <th>Question</th>\n",
       "      <th>Answer</th>\n",
       "    </tr>\n",
       "  </thead>\n",
       "  <tbody>\n",
       "    <tr>\n",
       "      <th>216925</th>\n",
       "      <td>4999</td>\n",
       "      <td>2006-05-11</td>\n",
       "      <td>Double Jeopardy!</td>\n",
       "      <td>RIDDLE ME THIS</td>\n",
       "      <td>$2000</td>\n",
       "      <td>This Puccini opera turns on the solution to 3 ...</td>\n",
       "      <td>Turandot</td>\n",
       "    </tr>\n",
       "    <tr>\n",
       "      <th>216926</th>\n",
       "      <td>4999</td>\n",
       "      <td>2006-05-11</td>\n",
       "      <td>Double Jeopardy!</td>\n",
       "      <td>\"T\" BIRDS</td>\n",
       "      <td>$2000</td>\n",
       "      <td>In North America this term is properly applied...</td>\n",
       "      <td>a titmouse</td>\n",
       "    </tr>\n",
       "    <tr>\n",
       "      <th>216927</th>\n",
       "      <td>4999</td>\n",
       "      <td>2006-05-11</td>\n",
       "      <td>Double Jeopardy!</td>\n",
       "      <td>AUTHORS IN THEIR YOUTH</td>\n",
       "      <td>$2000</td>\n",
       "      <td>In Penny Lane, where this \"Hellraiser\" grew up...</td>\n",
       "      <td>Clive Barker</td>\n",
       "    </tr>\n",
       "    <tr>\n",
       "      <th>216928</th>\n",
       "      <td>4999</td>\n",
       "      <td>2006-05-11</td>\n",
       "      <td>Double Jeopardy!</td>\n",
       "      <td>QUOTATIONS</td>\n",
       "      <td>$2000</td>\n",
       "      <td>From Ft. Sill, Okla. he made the plea, Arizona...</td>\n",
       "      <td>Geronimo</td>\n",
       "    </tr>\n",
       "    <tr>\n",
       "      <th>216929</th>\n",
       "      <td>4999</td>\n",
       "      <td>2006-05-11</td>\n",
       "      <td>Final Jeopardy!</td>\n",
       "      <td>HISTORIC NAMES</td>\n",
       "      <td>None</td>\n",
       "      <td>A silent movie title includes the last name of...</td>\n",
       "      <td>Grigori Alexandrovich Potemkin</td>\n",
       "    </tr>\n",
       "  </tbody>\n",
       "</table>\n",
       "</div>"
      ],
      "text/plain": [
       "        Show Number    Air Date             Round                Category  \\\n",
       "216925         4999  2006-05-11  Double Jeopardy!          RIDDLE ME THIS   \n",
       "216926         4999  2006-05-11  Double Jeopardy!               \"T\" BIRDS   \n",
       "216927         4999  2006-05-11  Double Jeopardy!  AUTHORS IN THEIR YOUTH   \n",
       "216928         4999  2006-05-11  Double Jeopardy!              QUOTATIONS   \n",
       "216929         4999  2006-05-11   Final Jeopardy!          HISTORIC NAMES   \n",
       "\n",
       "        Value                                           Question  \\\n",
       "216925  $2000  This Puccini opera turns on the solution to 3 ...   \n",
       "216926  $2000  In North America this term is properly applied...   \n",
       "216927  $2000  In Penny Lane, where this \"Hellraiser\" grew up...   \n",
       "216928  $2000  From Ft. Sill, Okla. he made the plea, Arizona...   \n",
       "216929   None  A silent movie title includes the last name of...   \n",
       "\n",
       "                                Answer  \n",
       "216925                        Turandot  \n",
       "216926                      a titmouse  \n",
       "216927                    Clive Barker  \n",
       "216928                        Geronimo  \n",
       "216929  Grigori Alexandrovich Potemkin  "
      ]
     },
     "execution_count": 4,
     "metadata": {},
     "output_type": "execute_result"
    }
   ],
   "source": [
    "df.tail(5)"
   ]
  },
  {
   "cell_type": "code",
   "execution_count": 5,
   "metadata": {
    "collapsed": true
   },
   "outputs": [],
   "source": [
    "answers = df[' Answer']"
   ]
  },
  {
   "cell_type": "code",
   "execution_count": 6,
   "metadata": {},
   "outputs": [
    {
     "data": {
      "text/plain": [
       "array(['Copernicus', 'Jim Thorpe', 'Arizona', ..., 'Anaïs Nin',\n",
       "       'a titmouse', 'Grigori Alexandrovich Potemkin'], dtype=object)"
      ]
     },
     "execution_count": 6,
     "metadata": {},
     "output_type": "execute_result"
    }
   ],
   "source": [
    "answers.unique()"
   ]
  },
  {
   "cell_type": "code",
   "execution_count": 7,
   "metadata": {},
   "outputs": [
    {
     "data": {
      "text/plain": [
       "88269"
      ]
     },
     "execution_count": 7,
     "metadata": {},
     "output_type": "execute_result"
    }
   ],
   "source": [
    "len(answers.unique())"
   ]
  },
  {
   "cell_type": "code",
   "execution_count": 8,
   "metadata": {},
   "outputs": [
    {
     "data": {
      "text/plain": [
       "array(['Copernicus', 'Jim Thorpe', 'Arizona', \"McDonald's\", 'John Adams',\n",
       "       'the ant', 'the Appian Way', 'Michael Jordan', 'Washington',\n",
       "       'Crate & Barrel'], dtype=object)"
      ]
     },
     "execution_count": 8,
     "metadata": {},
     "output_type": "execute_result"
    }
   ],
   "source": [
    "answers.unique()[:10]"
   ]
  },
  {
   "cell_type": "code",
   "execution_count": 9,
   "metadata": {},
   "outputs": [
    {
     "data": {
      "text/plain": [
       "array(['(Laurens) Hammond', '(Nikola) Tesla', 'the rowls', 'the teal',\n",
       "       '(Edward) Elgar', '(Erle Stanley) Gardner', 'thrushes', 'Anaïs Nin',\n",
       "       'a titmouse', 'Grigori Alexandrovich Potemkin'], dtype=object)"
      ]
     },
     "execution_count": 9,
     "metadata": {},
     "output_type": "execute_result"
    }
   ],
   "source": [
    "answers.unique()[-10:]"
   ]
  },
  {
   "cell_type": "code",
   "execution_count": 10,
   "metadata": {},
   "outputs": [
    {
     "name": "stdout",
     "output_type": "stream",
     "text": [
      "China                                        216\n",
      "Australia                                    215\n",
      "Japan                                        196\n",
      "Chicago                                      194\n",
      "France                                       193\n",
      "India                                        185\n",
      "California                                   180\n",
      "Canada                                       176\n",
      "Spain                                        171\n",
      "Mexico                                       164\n",
      "Alaska                                       161\n",
      "Italy                                        160\n",
      "Hawaii                                       157\n",
      "Texas                                        153\n",
      "Paris                                        149\n",
      "Germany                                      147\n",
      "Russia                                       141\n",
      "Florida                                      140\n",
      "South Africa                                 139\n",
      "Ireland                                      136\n",
      "Brazil                                       133\n",
      "London                                       132\n",
      "Sweden                                       130\n",
      "George Washington                            128\n",
      "New Orleans                                  128\n",
      "Greece                                       125\n",
      "Ronald Reagan                                123\n",
      "Egypt                                        122\n",
      "New York                                     122\n",
      "Abraham Lincoln                              120\n",
      "                                            ... \n",
      "trailer                                        1\n",
      "chapeau                                        1\n",
      "Seven Deadly Sins                              1\n",
      "Sheen's jeans                                  1\n",
      "de Sotò                                        1\n",
      "Chaps                                          1\n",
      "Maltese falcon                                 1\n",
      "the Peacekeeper                                1\n",
      "the House of Lords & the House of Commons      1\n",
      "Khalil Gibran                                  1\n",
      "Richard Nixon & Spiro Agnew                    1\n",
      "cargo jet                                      1\n",
      "Ashmolean Museum                               1\n",
      "Outline                                        1\n",
      "ramrod                                         1\n",
      "light as a feather                             1\n",
      "a flatworm                                     1\n",
      "a yearling                                     1\n",
      "Francois I                                     1\n",
      "mylar                                          1\n",
      "Mr. Secretary                                  1\n",
      "horseback riding (equestrian)                  1\n",
      "phonograph                                     1\n",
      "to be reborn (rebirth accepted)                1\n",
      "the overhead bins                              1\n",
      "4-star general (full general)                  1\n",
      "The Hundred Acre Wood                          1\n",
      "The Fearless Vampire Killers                   1\n",
      "\"Three Men And A Baby\"                         1\n",
      "Poor Little Fool                               1\n",
      "Name:  Answer, Length: 88269, dtype: int64\n"
     ]
    }
   ],
   "source": [
    "counts = answers.value_counts()\n",
    "print(counts)"
   ]
  },
  {
   "cell_type": "code",
   "execution_count": 11,
   "metadata": {},
   "outputs": [
    {
     "data": {
      "text/plain": [
       "count     216930\n",
       "unique     88269\n",
       "top        China\n",
       "freq         216\n",
       "Name:  Answer, dtype: object"
      ]
     },
     "execution_count": 11,
     "metadata": {},
     "output_type": "execute_result"
    }
   ],
   "source": [
    "answers.describe()"
   ]
  },
  {
   "cell_type": "code",
   "execution_count": 12,
   "metadata": {},
   "outputs": [
    {
     "name": "stdout",
     "output_type": "stream",
     "text": [
      "Mean of counts: 2.457601196342997\n",
      "Mode of counts: 1\n",
      "Median of counts: 1.0\n"
     ]
    }
   ],
   "source": [
    "print('Mean of counts: ' + str(counts.mean()))\n",
    "print('Mode of counts: ' + str(counts.mode()[0]))\n",
    "print('Median of counts: ' + str(counts.median()))"
   ]
  },
  {
   "cell_type": "code",
   "execution_count": 13,
   "metadata": {},
   "outputs": [
    {
     "name": "stdout",
     "output_type": "stream",
     "text": [
      "How many answers appear exactly once? : 58699\n",
      "How many answers appear twice? : 12400\n",
      "How many answers appear 5 or more times? : 8720\n",
      "How many answers appear 10 or more times? : 3303\n",
      "How many answers appear 50 or more times? : 194\n",
      "How many answers appear 100 or more times? : 47\n",
      "How many answers appear 150 or more times? : 14\n",
      "How many answers appear 200 or more times? : 2\n"
     ]
    }
   ],
   "source": [
    "print('How many answers appear exactly once? : ' + str(len(counts[counts == 1])))\n",
    "print('How many answers appear twice? : ' + str(len(counts[counts == 2])))\n",
    "print('How many answers appear 5 or more times? : ' + str(len(counts[counts >= 5])))\n",
    "print('How many answers appear 10 or more times? : ' + str(len(counts[counts >= 10])))\n",
    "print('How many answers appear 50 or more times? : ' + str(len(counts[counts >= 50])))\n",
    "print('How many answers appear 100 or more times? : ' + str(len(counts[counts >= 100])))\n",
    "print('How many answers appear 150 or more times? : ' + str(len(counts[counts >= 150])))\n",
    "print('How many answers appear 200 or more times? : ' + str(len(counts[counts >= 200])))"
   ]
  },
  {
   "cell_type": "code",
   "execution_count": 14,
   "metadata": {},
   "outputs": [
    {
     "name": "stdout",
     "output_type": "stream",
     "text": [
      "The occurrance rate of the most common answer (China): 0.099571290278% \n"
     ]
    }
   ],
   "source": [
    "print('The occurrance rate of the most common answer (' + str(counts.keys()[0]) + '): ' + str((counts[0]/len(answers))*100) + '% ')"
   ]
  },
  {
   "cell_type": "code",
   "execution_count": 18,
   "metadata": {},
   "outputs": [
    {
     "data": {
      "image/png": "[encoded data removed]",
      "text/plain": [
       "<matplotlib.figure.Figure at 0x1f4da8d2f98>"
      ]
     },
     "execution_count": 18,
     "metadata": {},
     "output_type": "execute_result"
    }
   ],
   "source": [
    "counts[:10].plot(kind='bar')\n",
    "\n",
    "f1 = plt.gcf()\n",
    "f1"
   ]
  },
  {
   "cell_type": "code",
   "execution_count": 21,
   "metadata": {},
   "outputs": [
    {
     "data": {
      "text/plain": [
       "0.8191582538145945"
      ]
     },
     "execution_count": 21,
     "metadata": {},
     "output_type": "execute_result"
    }
   ],
   "source": [
    "(len(answers[answers.str.isnumeric()])/len(answers))*100"
   ]
  },
  {
   "cell_type": "code",
   "execution_count": null,
   "metadata": {
    "collapsed": true
   },
   "outputs": [],
   "source": []
  }
 ],
 "metadata": {
  "kernelspec": {
   "display_name": "Python 3",
   "language": "python",
   "name": "python3"
  },
  "language_info": {
   "codemirror_mode": {
    "name": "ipython",
    "version": 3
   },
   "file_extension": ".py",
   "mimetype": "text/x-python",
   "name": "python",
   "nbconvert_exporter": "python",
   "pygments_lexer": "ipython3",
   "version": "3.6.3"
  }
 },
 "nbformat": 4,
 "nbformat_minor": 2
}
