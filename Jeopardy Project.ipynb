{
 "cells": [
  {
   "cell_type": "markdown",
   "metadata": {},
   "source": [
    "# Introduction and Background\n",
    "\n",
    "Jeopardy! is one of the United States' longest running, general knowledge, trivia game shows. The show consists of the host, currently Alex Trebek, reading clues to contestants and the contestants have to guess what question the clue is the answer to. This is why all Jeopardy! answers are phrased in the form of a question.\n",
    "\n",
    "There have been several contestants who have dominated the game using various tactics. One contestant, Ken Jennings, went on the longest Jeopardy! winning streak in the show's history. It was not just because Jennings had an encyclopedic mind with perfect recall, he also employed certain game theory tactics in order to maximize his daily winnings, which was how the winner was determined. At the end of the game, the player with the highest earnings wins, and moves on to the next day. Another player, Arthur Chu, became popular after going on a short winning streak using an unorthadox strategy with seemingly arbitrary wagers on the Daily Double questions. Chu also noted that there was a pattern: certain answers/clues would be more likely to appear in certain categories. \n",
    "\n",
    "The goal of this project is to determine whether or not there is an optimal strategy to preparing to be a contestant on Jeopardy!\n",
    "\n",
    "This question is of particular interest to one of our group members, Brandon Nguyen, who was a former contestant of another game show and is an avid Jeopardy fan. During his time watching and follow Jeopardy, Brandon has noticed that some of the most successful Jeopardy players had very obvious strategies in order to go on massive winning streaks. After the successes of people such as Jennings and Chu, we would like to see if there is truth in their observations about the game.\n",
    "\n",
    "Our goal is to find out which subjects a potential Jeopardy! contestant should study in order to maximize his or her performance on the game show. We are interested in whether trends in past Jeopardy! clues, categories, and answers could help guide a contestant's studying. We hypothesize that the frequencies of certain groups of clues, categories, and answers will be significant enough to discern the best subjects to study when preparing for Jeopardy!. In order to test our hypothesis, we will categorize clues and answers by subject and examine the frequency, or number of occurrances of subjects, both over the lifetime of the game-show and by year.\n",
    "\n",
    "To organize our analysis and discussion, we will define our list of subjects: Culture, Geography, History, and Science."
   ]
  },
  {
   "cell_type": "markdown",
   "metadata": {},
   "source": [
    "# Data Description  \n",
    "\n",
    "\n",
    "We will be using data from the Jeopardy Archives, which was consolidated by a Reddit user named trexmatt. Using a data scraper, trexmatt has compiled a CSV file containing over 200,000 observations which include: show numner, show air date, the round a question was asked, clue category, clue monetary value, the clue itself, and the answer (which would be phrased as a question). By analyzing this data, we hope to uncover any underlying patterns hidden away in the clues of the game.\n",
    "\n",
    "To make our phrasing more intuitive, from now on, the clue will be referred to as the question.\n",
    "\n",
    "The CSV file contains the question as a whole, and the answer column has the answer to the clue without the leading words that would make the phrasing a question. \n"
   ]
  },
  {
   "cell_type": "code",
   "execution_count": 1,
   "metadata": {
    "collapsed": true
   },
   "outputs": [],
   "source": [
    "import numpy as np\n",
    "import pandas as pd\n",
    "import matplotlib.pyplot as plt\n",
    "import seaborn as sns"
   ]
  },
  {
   "cell_type": "code",
   "execution_count": 2,
   "metadata": {
    "collapsed": true
   },
   "outputs": [],
   "source": [
    "df = pd.read_csv('JEOPARDY_CSV.csv')"
   ]
  },
  {
   "cell_type": "code",
   "execution_count": 3,
   "metadata": {},
   "outputs": [
    {
     "data": {
      "text/html": [
       "<div>\n",
       "<style>\n",
       "    .dataframe thead tr:only-child th {\n",
       "        text-align: right;\n",
       "    }\n",
       "\n",
       "    .dataframe thead th {\n",
       "        text-align: left;\n",
       "    }\n",
       "\n",
       "    .dataframe tbody tr th {\n",
       "        vertical-align: top;\n",
       "    }\n",
       "</style>\n",
       "<table border=\"1\" class=\"dataframe\">\n",
       "  <thead>\n",
       "    <tr style=\"text-align: right;\">\n",
       "      <th></th>\n",
       "      <th>Show Number</th>\n",
       "      <th>Air Date</th>\n",
       "      <th>Round</th>\n",
       "      <th>Category</th>\n",
       "      <th>Value</th>\n",
       "      <th>Question</th>\n",
       "      <th>Answer</th>\n",
       "    </tr>\n",
       "  </thead>\n",
       "  <tbody>\n",
       "    <tr>\n",
       "      <th>0</th>\n",
       "      <td>4680</td>\n",
       "      <td>2004-12-31</td>\n",
       "      <td>Jeopardy!</td>\n",
       "      <td>HISTORY</td>\n",
       "      <td>$200</td>\n",
       "      <td>For the last 8 years of his life, Galileo was ...</td>\n",
       "      <td>Copernicus</td>\n",
       "    </tr>\n",
       "    <tr>\n",
       "      <th>1</th>\n",
       "      <td>4680</td>\n",
       "      <td>2004-12-31</td>\n",
       "      <td>Jeopardy!</td>\n",
       "      <td>ESPN's TOP 10 ALL-TIME ATHLETES</td>\n",
       "      <td>$200</td>\n",
       "      <td>No. 2: 1912 Olympian; football star at Carlisl...</td>\n",
       "      <td>Jim Thorpe</td>\n",
       "    </tr>\n",
       "    <tr>\n",
       "      <th>2</th>\n",
       "      <td>4680</td>\n",
       "      <td>2004-12-31</td>\n",
       "      <td>Jeopardy!</td>\n",
       "      <td>EVERYBODY TALKS ABOUT IT...</td>\n",
       "      <td>$200</td>\n",
       "      <td>The city of Yuma in this state has a record av...</td>\n",
       "      <td>Arizona</td>\n",
       "    </tr>\n",
       "    <tr>\n",
       "      <th>3</th>\n",
       "      <td>4680</td>\n",
       "      <td>2004-12-31</td>\n",
       "      <td>Jeopardy!</td>\n",
       "      <td>THE COMPANY LINE</td>\n",
       "      <td>$200</td>\n",
       "      <td>In 1963, live on \"The Art Linkletter Show\", th...</td>\n",
       "      <td>McDonald's</td>\n",
       "    </tr>\n",
       "    <tr>\n",
       "      <th>4</th>\n",
       "      <td>4680</td>\n",
       "      <td>2004-12-31</td>\n",
       "      <td>Jeopardy!</td>\n",
       "      <td>EPITAPHS &amp; TRIBUTES</td>\n",
       "      <td>$200</td>\n",
       "      <td>Signer of the Dec. of Indep., framer of the Co...</td>\n",
       "      <td>John Adams</td>\n",
       "    </tr>\n",
       "  </tbody>\n",
       "</table>\n",
       "</div>"
      ],
      "text/plain": [
       "   Show Number    Air Date      Round                         Category  Value  \\\n",
       "0         4680  2004-12-31  Jeopardy!                          HISTORY   $200   \n",
       "1         4680  2004-12-31  Jeopardy!  ESPN's TOP 10 ALL-TIME ATHLETES   $200   \n",
       "2         4680  2004-12-31  Jeopardy!      EVERYBODY TALKS ABOUT IT...   $200   \n",
       "3         4680  2004-12-31  Jeopardy!                 THE COMPANY LINE   $200   \n",
       "4         4680  2004-12-31  Jeopardy!              EPITAPHS & TRIBUTES   $200   \n",
       "\n",
       "                                            Question      Answer  \n",
       "0  For the last 8 years of his life, Galileo was ...  Copernicus  \n",
       "1  No. 2: 1912 Olympian; football star at Carlisl...  Jim Thorpe  \n",
       "2  The city of Yuma in this state has a record av...     Arizona  \n",
       "3  In 1963, live on \"The Art Linkletter Show\", th...  McDonald's  \n",
       "4  Signer of the Dec. of Indep., framer of the Co...  John Adams  "
      ]
     },
     "execution_count": 3,
     "metadata": {},
     "output_type": "execute_result"
    }
   ],
   "source": [
    "df.head(5)"
   ]
  },
  {
   "cell_type": "code",
   "execution_count": 4,
   "metadata": {
    "scrolled": true
   },
   "outputs": [
    {
     "data": {
      "text/html": [
       "<div>\n",
       "<style>\n",
       "    .dataframe thead tr:only-child th {\n",
       "        text-align: right;\n",
       "    }\n",
       "\n",
       "    .dataframe thead th {\n",
       "        text-align: left;\n",
       "    }\n",
       "\n",
       "    .dataframe tbody tr th {\n",
       "        vertical-align: top;\n",
       "    }\n",
       "</style>\n",
       "<table border=\"1\" class=\"dataframe\">\n",
       "  <thead>\n",
       "    <tr style=\"text-align: right;\">\n",
       "      <th></th>\n",
       "      <th>Show Number</th>\n",
       "      <th>Air Date</th>\n",
       "      <th>Round</th>\n",
       "      <th>Category</th>\n",
       "      <th>Value</th>\n",
       "      <th>Question</th>\n",
       "      <th>Answer</th>\n",
       "    </tr>\n",
       "  </thead>\n",
       "  <tbody>\n",
       "    <tr>\n",
       "      <th>216925</th>\n",
       "      <td>4999</td>\n",
       "      <td>2006-05-11</td>\n",
       "      <td>Double Jeopardy!</td>\n",
       "      <td>RIDDLE ME THIS</td>\n",
       "      <td>$2000</td>\n",
       "      <td>This Puccini opera turns on the solution to 3 ...</td>\n",
       "      <td>Turandot</td>\n",
       "    </tr>\n",
       "    <tr>\n",
       "      <th>216926</th>\n",
       "      <td>4999</td>\n",
       "      <td>2006-05-11</td>\n",
       "      <td>Double Jeopardy!</td>\n",
       "      <td>\"T\" BIRDS</td>\n",
       "      <td>$2000</td>\n",
       "      <td>In North America this term is properly applied...</td>\n",
       "      <td>a titmouse</td>\n",
       "    </tr>\n",
       "    <tr>\n",
       "      <th>216927</th>\n",
       "      <td>4999</td>\n",
       "      <td>2006-05-11</td>\n",
       "      <td>Double Jeopardy!</td>\n",
       "      <td>AUTHORS IN THEIR YOUTH</td>\n",
       "      <td>$2000</td>\n",
       "      <td>In Penny Lane, where this \"Hellraiser\" grew up...</td>\n",
       "      <td>Clive Barker</td>\n",
       "    </tr>\n",
       "    <tr>\n",
       "      <th>216928</th>\n",
       "      <td>4999</td>\n",
       "      <td>2006-05-11</td>\n",
       "      <td>Double Jeopardy!</td>\n",
       "      <td>QUOTATIONS</td>\n",
       "      <td>$2000</td>\n",
       "      <td>From Ft. Sill, Okla. he made the plea, Arizona...</td>\n",
       "      <td>Geronimo</td>\n",
       "    </tr>\n",
       "    <tr>\n",
       "      <th>216929</th>\n",
       "      <td>4999</td>\n",
       "      <td>2006-05-11</td>\n",
       "      <td>Final Jeopardy!</td>\n",
       "      <td>HISTORIC NAMES</td>\n",
       "      <td>None</td>\n",
       "      <td>A silent movie title includes the last name of...</td>\n",
       "      <td>Grigori Alexandrovich Potemkin</td>\n",
       "    </tr>\n",
       "  </tbody>\n",
       "</table>\n",
       "</div>"
      ],
      "text/plain": [
       "        Show Number    Air Date             Round                Category  \\\n",
       "216925         4999  2006-05-11  Double Jeopardy!          RIDDLE ME THIS   \n",
       "216926         4999  2006-05-11  Double Jeopardy!               \"T\" BIRDS   \n",
       "216927         4999  2006-05-11  Double Jeopardy!  AUTHORS IN THEIR YOUTH   \n",
       "216928         4999  2006-05-11  Double Jeopardy!              QUOTATIONS   \n",
       "216929         4999  2006-05-11   Final Jeopardy!          HISTORIC NAMES   \n",
       "\n",
       "        Value                                           Question  \\\n",
       "216925  $2000  This Puccini opera turns on the solution to 3 ...   \n",
       "216926  $2000  In North America this term is properly applied...   \n",
       "216927  $2000  In Penny Lane, where this \"Hellraiser\" grew up...   \n",
       "216928  $2000  From Ft. Sill, Okla. he made the plea, Arizona...   \n",
       "216929   None  A silent movie title includes the last name of...   \n",
       "\n",
       "                                Answer  \n",
       "216925                        Turandot  \n",
       "216926                      a titmouse  \n",
       "216927                    Clive Barker  \n",
       "216928                        Geronimo  \n",
       "216929  Grigori Alexandrovich Potemkin  "
      ]
     },
     "execution_count": 4,
     "metadata": {},
     "output_type": "execute_result"
    }
   ],
   "source": [
    "df.tail(5)"
   ]
  },
  {
   "cell_type": "markdown",
   "metadata": {},
   "source": [
    "# Data Cleaning and Pre-Processing\n",
    "Before analyzing the data set, we need to do some data cleaning and pre-processing. Firstly, we decided to drop some of the columns that we will not be using in our analysis. The columns that we dropped are the Show Number and the Question columns. The columns that we cleaned up are the Air Dates, Value, and Answer columns. We did some processing on the Air Date column and extracted the year out of each observation, and in our cleaned up dataframe we renamed the Air Date column to year. For the Value column, we processed the money value by removing the dollar sign and commas, and we converted the type to be an integer. Additionally, we standardized each observation's money value by dividing by 2 for Double Jeopardy! questions. \n",
    "\n",
    "The Answer column proved to be the most difficult to clean. For this column, we cleaned each observation by removing quotes, parentheses and leading \"a\", \"an\", and \"the\" when appropriate. After removing those, we stripped the answers of any leading and trailing whitespace. Finally, we converted all the answers to lower case. Because we plan to analyze the uniqueness and frequency the answers, it is important to standardize the answers as best as possible. We cleaned the answers to the best of our ability, but it is not perfect. The messiness of the original answers makes it hard for us to clean the answers. For example, some of the answers with parentheses in them made it hard to tell which answers were the same as others. \n",
    "\n",
    "The following are some answers that will illustrate our problem:<br>\n",
    "Ceylon (or Sri Lanka)<br>\n",
    "Ceylon\n",
    "\n",
    "In this case, we thought it would be best to completely remove the parentheses AND the content within them. Then, the answers would both be standardized to Ceylon. \n",
    "\n",
    "(Vladimir) Putin<br>\n",
    "Vladimir Putin<br>\n",
    "\n",
    "In this case, we only want to remove the parentheses, but keep the content within them. Then both answers would be standardized to Vladimir Putin.\n",
    "\n",
    "Since the answers are so messy, we could not come up with a set of rules that would clean up and correctly standardize all the answers. In the end, we made the decision to only remove the parentheses. This helps in many cases, but it is not perfect."
   ]
  },
  {
   "cell_type": "code",
   "execution_count": 5,
   "metadata": {
    "collapsed": true
   },
   "outputs": [],
   "source": [
    "def cleanAnswer(answer):\n",
    "    answer = answer.replace('\"', \"\")\n",
    "    answer = answer.replace('(', \"\")\n",
    "    answer = answer.replace(')', \"\")\n",
    "    split = answer.split(' ', 1)\n",
    "    firstWord = split[0]\n",
    "    if len(split) == 2 and (firstWord == 'an' or firstWord == 'a' or firstWord == 'the'):\n",
    "        answer = split[1]\n",
    "    \n",
    "    answer.strip()\n",
    "    answer = answer.lower()\n",
    "    return answer"
   ]
  },
  {
   "cell_type": "code",
   "execution_count": 6,
   "metadata": {},
   "outputs": [
    {
     "name": "stdout",
     "output_type": "stream",
     "text": [
      " hello  a streetcar named desire the vladimir putin\n"
     ]
    }
   ],
   "source": [
    "# test clean method\n",
    "print(cleanAnswer(' HELLO '), cleanAnswer('\"A Streetcar Named Desire\"'), cleanAnswer('the'), cleanAnswer('(Vladimir) Putin'))"
   ]
  },
  {
   "cell_type": "code",
   "execution_count": 7,
   "metadata": {
    "collapsed": true
   },
   "outputs": [],
   "source": [
    "def cleanDate(date):\n",
    "    return date[:4]"
   ]
  },
  {
   "cell_type": "code",
   "execution_count": 8,
   "metadata": {
    "collapsed": true
   },
   "outputs": [],
   "source": [
    "def convertValues(cost):\n",
    "    if cost == \"None\":\n",
    "        return 0\n",
    "    cost = cost.replace(\"$\", '')\n",
    "    cost = cost.replace(',','')\n",
    "    cost = int(cost)\n",
    "    return cost"
   ]
  },
  {
   "cell_type": "code",
   "execution_count": 9,
   "metadata": {},
   "outputs": [
    {
     "data": {
      "text/html": [
       "<div>\n",
       "<style>\n",
       "    .dataframe thead tr:only-child th {\n",
       "        text-align: right;\n",
       "    }\n",
       "\n",
       "    .dataframe thead th {\n",
       "        text-align: left;\n",
       "    }\n",
       "\n",
       "    .dataframe tbody tr th {\n",
       "        vertical-align: top;\n",
       "    }\n",
       "</style>\n",
       "<table border=\"1\" class=\"dataframe\">\n",
       "  <thead>\n",
       "    <tr style=\"text-align: right;\">\n",
       "      <th></th>\n",
       "      <th>year</th>\n",
       "      <th>round</th>\n",
       "      <th>category</th>\n",
       "      <th>value</th>\n",
       "      <th>answer</th>\n",
       "    </tr>\n",
       "  </thead>\n",
       "  <tbody>\n",
       "    <tr>\n",
       "      <th>0</th>\n",
       "      <td>2004</td>\n",
       "      <td>Jeopardy!</td>\n",
       "      <td>HISTORY</td>\n",
       "      <td>200</td>\n",
       "      <td>copernicus</td>\n",
       "    </tr>\n",
       "    <tr>\n",
       "      <th>1</th>\n",
       "      <td>2004</td>\n",
       "      <td>Jeopardy!</td>\n",
       "      <td>ESPN's TOP 10 ALL-TIME ATHLETES</td>\n",
       "      <td>200</td>\n",
       "      <td>jim thorpe</td>\n",
       "    </tr>\n",
       "    <tr>\n",
       "      <th>2</th>\n",
       "      <td>2004</td>\n",
       "      <td>Jeopardy!</td>\n",
       "      <td>EVERYBODY TALKS ABOUT IT...</td>\n",
       "      <td>200</td>\n",
       "      <td>arizona</td>\n",
       "    </tr>\n",
       "    <tr>\n",
       "      <th>3</th>\n",
       "      <td>2004</td>\n",
       "      <td>Jeopardy!</td>\n",
       "      <td>THE COMPANY LINE</td>\n",
       "      <td>200</td>\n",
       "      <td>mcdonald's</td>\n",
       "    </tr>\n",
       "    <tr>\n",
       "      <th>4</th>\n",
       "      <td>2004</td>\n",
       "      <td>Jeopardy!</td>\n",
       "      <td>EPITAPHS &amp; TRIBUTES</td>\n",
       "      <td>200</td>\n",
       "      <td>john adams</td>\n",
       "    </tr>\n",
       "    <tr>\n",
       "      <th>5</th>\n",
       "      <td>2004</td>\n",
       "      <td>Jeopardy!</td>\n",
       "      <td>3-LETTER WORDS</td>\n",
       "      <td>200</td>\n",
       "      <td>ant</td>\n",
       "    </tr>\n",
       "    <tr>\n",
       "      <th>6</th>\n",
       "      <td>2004</td>\n",
       "      <td>Jeopardy!</td>\n",
       "      <td>HISTORY</td>\n",
       "      <td>400</td>\n",
       "      <td>appian way</td>\n",
       "    </tr>\n",
       "    <tr>\n",
       "      <th>7</th>\n",
       "      <td>2004</td>\n",
       "      <td>Jeopardy!</td>\n",
       "      <td>ESPN's TOP 10 ALL-TIME ATHLETES</td>\n",
       "      <td>400</td>\n",
       "      <td>michael jordan</td>\n",
       "    </tr>\n",
       "    <tr>\n",
       "      <th>8</th>\n",
       "      <td>2004</td>\n",
       "      <td>Jeopardy!</td>\n",
       "      <td>EVERYBODY TALKS ABOUT IT...</td>\n",
       "      <td>400</td>\n",
       "      <td>washington</td>\n",
       "    </tr>\n",
       "    <tr>\n",
       "      <th>9</th>\n",
       "      <td>2004</td>\n",
       "      <td>Jeopardy!</td>\n",
       "      <td>THE COMPANY LINE</td>\n",
       "      <td>400</td>\n",
       "      <td>crate &amp; barrel</td>\n",
       "    </tr>\n",
       "    <tr>\n",
       "      <th>10</th>\n",
       "      <td>2004</td>\n",
       "      <td>Jeopardy!</td>\n",
       "      <td>EPITAPHS &amp; TRIBUTES</td>\n",
       "      <td>400</td>\n",
       "      <td>jackie gleason</td>\n",
       "    </tr>\n",
       "    <tr>\n",
       "      <th>11</th>\n",
       "      <td>2004</td>\n",
       "      <td>Jeopardy!</td>\n",
       "      <td>3-LETTER WORDS</td>\n",
       "      <td>400</td>\n",
       "      <td>cud</td>\n",
       "    </tr>\n",
       "    <tr>\n",
       "      <th>12</th>\n",
       "      <td>2004</td>\n",
       "      <td>Jeopardy!</td>\n",
       "      <td>HISTORY</td>\n",
       "      <td>600</td>\n",
       "      <td>ceylon or sri lanka</td>\n",
       "    </tr>\n",
       "    <tr>\n",
       "      <th>13</th>\n",
       "      <td>2004</td>\n",
       "      <td>Jeopardy!</td>\n",
       "      <td>ESPN's TOP 10 ALL-TIME ATHLETES</td>\n",
       "      <td>600</td>\n",
       "      <td>jim brown</td>\n",
       "    </tr>\n",
       "    <tr>\n",
       "      <th>14</th>\n",
       "      <td>2004</td>\n",
       "      <td>Jeopardy!</td>\n",
       "      <td>EVERYBODY TALKS ABOUT IT...</td>\n",
       "      <td>600</td>\n",
       "      <td>uv index</td>\n",
       "    </tr>\n",
       "    <tr>\n",
       "      <th>15</th>\n",
       "      <td>2004</td>\n",
       "      <td>Jeopardy!</td>\n",
       "      <td>THE COMPANY LINE</td>\n",
       "      <td>600</td>\n",
       "      <td>bulova</td>\n",
       "    </tr>\n",
       "    <tr>\n",
       "      <th>16</th>\n",
       "      <td>2004</td>\n",
       "      <td>Jeopardy!</td>\n",
       "      <td>EPITAPHS &amp; TRIBUTES</td>\n",
       "      <td>600</td>\n",
       "      <td>jesse james</td>\n",
       "    </tr>\n",
       "    <tr>\n",
       "      <th>17</th>\n",
       "      <td>2004</td>\n",
       "      <td>Jeopardy!</td>\n",
       "      <td>3-LETTER WORDS</td>\n",
       "      <td>600</td>\n",
       "      <td>imp</td>\n",
       "    </tr>\n",
       "    <tr>\n",
       "      <th>18</th>\n",
       "      <td>2004</td>\n",
       "      <td>Jeopardy!</td>\n",
       "      <td>HISTORY</td>\n",
       "      <td>800</td>\n",
       "      <td>international</td>\n",
       "    </tr>\n",
       "    <tr>\n",
       "      <th>19</th>\n",
       "      <td>2004</td>\n",
       "      <td>Jeopardy!</td>\n",
       "      <td>ESPN's TOP 10 ALL-TIME ATHLETES</td>\n",
       "      <td>800</td>\n",
       "      <td>lou gehrig</td>\n",
       "    </tr>\n",
       "    <tr>\n",
       "      <th>20</th>\n",
       "      <td>2004</td>\n",
       "      <td>Jeopardy!</td>\n",
       "      <td>EVERYBODY TALKS ABOUT IT...</td>\n",
       "      <td>800</td>\n",
       "      <td>morocco</td>\n",
       "    </tr>\n",
       "    <tr>\n",
       "      <th>21</th>\n",
       "      <td>2004</td>\n",
       "      <td>Jeopardy!</td>\n",
       "      <td>THE COMPANY LINE</td>\n",
       "      <td>800</td>\n",
       "      <td>paul bonwit</td>\n",
       "    </tr>\n",
       "    <tr>\n",
       "      <th>22</th>\n",
       "      <td>2004</td>\n",
       "      <td>Jeopardy!</td>\n",
       "      <td>EPITAPHS &amp; TRIBUTES</td>\n",
       "      <td>2000</td>\n",
       "      <td>hattie mcdaniel for her role in gone with the ...</td>\n",
       "    </tr>\n",
       "    <tr>\n",
       "      <th>23</th>\n",
       "      <td>2004</td>\n",
       "      <td>Jeopardy!</td>\n",
       "      <td>3-LETTER WORDS</td>\n",
       "      <td>800</td>\n",
       "      <td>era</td>\n",
       "    </tr>\n",
       "    <tr>\n",
       "      <th>24</th>\n",
       "      <td>2004</td>\n",
       "      <td>Jeopardy!</td>\n",
       "      <td>HISTORY</td>\n",
       "      <td>1000</td>\n",
       "      <td>congress party</td>\n",
       "    </tr>\n",
       "    <tr>\n",
       "      <th>25</th>\n",
       "      <td>2004</td>\n",
       "      <td>Jeopardy!</td>\n",
       "      <td>ESPN's TOP 10 ALL-TIME ATHLETES</td>\n",
       "      <td>1000</td>\n",
       "      <td>wilt chamberlain</td>\n",
       "    </tr>\n",
       "    <tr>\n",
       "      <th>26</th>\n",
       "      <td>2004</td>\n",
       "      <td>Jeopardy!</td>\n",
       "      <td>THE COMPANY LINE</td>\n",
       "      <td>1000</td>\n",
       "      <td>k2</td>\n",
       "    </tr>\n",
       "    <tr>\n",
       "      <th>27</th>\n",
       "      <td>2004</td>\n",
       "      <td>Jeopardy!</td>\n",
       "      <td>EPITAPHS &amp; TRIBUTES</td>\n",
       "      <td>1000</td>\n",
       "      <td>ethan allen</td>\n",
       "    </tr>\n",
       "    <tr>\n",
       "      <th>28</th>\n",
       "      <td>2004</td>\n",
       "      <td>Jeopardy!</td>\n",
       "      <td>3-LETTER WORDS</td>\n",
       "      <td>1000</td>\n",
       "      <td>ply</td>\n",
       "    </tr>\n",
       "    <tr>\n",
       "      <th>29</th>\n",
       "      <td>2004</td>\n",
       "      <td>Double Jeopardy!</td>\n",
       "      <td>DR. SEUSS AT THE MULTIPLEX</td>\n",
       "      <td>400</td>\n",
       "      <td>horton</td>\n",
       "    </tr>\n",
       "    <tr>\n",
       "      <th>...</th>\n",
       "      <td>...</td>\n",
       "      <td>...</td>\n",
       "      <td>...</td>\n",
       "      <td>...</td>\n",
       "      <td>...</td>\n",
       "    </tr>\n",
       "    <tr>\n",
       "      <th>216900</th>\n",
       "      <td>2006</td>\n",
       "      <td>Double Jeopardy!</td>\n",
       "      <td>OFF-BROADWAY</td>\n",
       "      <td>400</td>\n",
       "      <td>alec baldwin</td>\n",
       "    </tr>\n",
       "    <tr>\n",
       "      <th>216901</th>\n",
       "      <td>2006</td>\n",
       "      <td>Double Jeopardy!</td>\n",
       "      <td>RIDDLE ME THIS</td>\n",
       "      <td>400</td>\n",
       "      <td>samson</td>\n",
       "    </tr>\n",
       "    <tr>\n",
       "      <th>216902</th>\n",
       "      <td>2006</td>\n",
       "      <td>Double Jeopardy!</td>\n",
       "      <td>\"T\" BIRDS</td>\n",
       "      <td>400</td>\n",
       "      <td>teal</td>\n",
       "    </tr>\n",
       "    <tr>\n",
       "      <th>216903</th>\n",
       "      <td>2006</td>\n",
       "      <td>Double Jeopardy!</td>\n",
       "      <td>AUTHORS IN THEIR YOUTH</td>\n",
       "      <td>400</td>\n",
       "      <td>africa</td>\n",
       "    </tr>\n",
       "    <tr>\n",
       "      <th>216904</th>\n",
       "      <td>2006</td>\n",
       "      <td>Double Jeopardy!</td>\n",
       "      <td>QUOTATIONS</td>\n",
       "      <td>400</td>\n",
       "      <td>ronald reagan</td>\n",
       "    </tr>\n",
       "    <tr>\n",
       "      <th>216905</th>\n",
       "      <td>2006</td>\n",
       "      <td>Double Jeopardy!</td>\n",
       "      <td>WORLD CAPITALS</td>\n",
       "      <td>800</td>\n",
       "      <td>budapest</td>\n",
       "    </tr>\n",
       "    <tr>\n",
       "      <th>216906</th>\n",
       "      <td>2006</td>\n",
       "      <td>Double Jeopardy!</td>\n",
       "      <td>OFF-BROADWAY</td>\n",
       "      <td>800</td>\n",
       "      <td>amsterdam</td>\n",
       "    </tr>\n",
       "    <tr>\n",
       "      <th>216907</th>\n",
       "      <td>2006</td>\n",
       "      <td>Double Jeopardy!</td>\n",
       "      <td>RIDDLE ME THIS</td>\n",
       "      <td>800</td>\n",
       "      <td>man</td>\n",
       "    </tr>\n",
       "    <tr>\n",
       "      <th>216908</th>\n",
       "      <td>2006</td>\n",
       "      <td>Double Jeopardy!</td>\n",
       "      <td>\"T\" BIRDS</td>\n",
       "      <td>800</td>\n",
       "      <td>toucan</td>\n",
       "    </tr>\n",
       "    <tr>\n",
       "      <th>216909</th>\n",
       "      <td>2006</td>\n",
       "      <td>Double Jeopardy!</td>\n",
       "      <td>AUTHORS IN THEIR YOUTH</td>\n",
       "      <td>800</td>\n",
       "      <td>allen ginsberg</td>\n",
       "    </tr>\n",
       "    <tr>\n",
       "      <th>216910</th>\n",
       "      <td>2006</td>\n",
       "      <td>Double Jeopardy!</td>\n",
       "      <td>QUOTATIONS</td>\n",
       "      <td>800</td>\n",
       "      <td>muhammad ali</td>\n",
       "    </tr>\n",
       "    <tr>\n",
       "      <th>216911</th>\n",
       "      <td>2006</td>\n",
       "      <td>Double Jeopardy!</td>\n",
       "      <td>WORLD CAPITALS</td>\n",
       "      <td>1200</td>\n",
       "      <td>oslo</td>\n",
       "    </tr>\n",
       "    <tr>\n",
       "      <th>216912</th>\n",
       "      <td>2006</td>\n",
       "      <td>Double Jeopardy!</td>\n",
       "      <td>OFF-BROADWAY</td>\n",
       "      <td>1200</td>\n",
       "      <td>siddhartha</td>\n",
       "    </tr>\n",
       "    <tr>\n",
       "      <th>216913</th>\n",
       "      <td>2006</td>\n",
       "      <td>Double Jeopardy!</td>\n",
       "      <td>RIDDLE ME THIS</td>\n",
       "      <td>1200</td>\n",
       "      <td>edward elgar</td>\n",
       "    </tr>\n",
       "    <tr>\n",
       "      <th>216914</th>\n",
       "      <td>2006</td>\n",
       "      <td>Double Jeopardy!</td>\n",
       "      <td>\"T\" BIRDS</td>\n",
       "      <td>1200</td>\n",
       "      <td>tern</td>\n",
       "    </tr>\n",
       "    <tr>\n",
       "      <th>216915</th>\n",
       "      <td>2006</td>\n",
       "      <td>Double Jeopardy!</td>\n",
       "      <td>AUTHORS IN THEIR YOUTH</td>\n",
       "      <td>1200</td>\n",
       "      <td>erle stanley gardner</td>\n",
       "    </tr>\n",
       "    <tr>\n",
       "      <th>216916</th>\n",
       "      <td>2006</td>\n",
       "      <td>Double Jeopardy!</td>\n",
       "      <td>QUOTATIONS</td>\n",
       "      <td>2200</td>\n",
       "      <td>work</td>\n",
       "    </tr>\n",
       "    <tr>\n",
       "      <th>216917</th>\n",
       "      <td>2006</td>\n",
       "      <td>Double Jeopardy!</td>\n",
       "      <td>WORLD CAPITALS</td>\n",
       "      <td>3400</td>\n",
       "      <td>georgetown</td>\n",
       "    </tr>\n",
       "    <tr>\n",
       "      <th>216918</th>\n",
       "      <td>2006</td>\n",
       "      <td>Double Jeopardy!</td>\n",
       "      <td>OFF-BROADWAY</td>\n",
       "      <td>1600</td>\n",
       "      <td>fanny hill</td>\n",
       "    </tr>\n",
       "    <tr>\n",
       "      <th>216919</th>\n",
       "      <td>2006</td>\n",
       "      <td>Double Jeopardy!</td>\n",
       "      <td>RIDDLE ME THIS</td>\n",
       "      <td>1600</td>\n",
       "      <td>magritte</td>\n",
       "    </tr>\n",
       "    <tr>\n",
       "      <th>216920</th>\n",
       "      <td>2006</td>\n",
       "      <td>Double Jeopardy!</td>\n",
       "      <td>\"T\" BIRDS</td>\n",
       "      <td>1600</td>\n",
       "      <td>thrushes</td>\n",
       "    </tr>\n",
       "    <tr>\n",
       "      <th>216921</th>\n",
       "      <td>2006</td>\n",
       "      <td>Double Jeopardy!</td>\n",
       "      <td>AUTHORS IN THEIR YOUTH</td>\n",
       "      <td>1600</td>\n",
       "      <td>anaïs nin</td>\n",
       "    </tr>\n",
       "    <tr>\n",
       "      <th>216922</th>\n",
       "      <td>2006</td>\n",
       "      <td>Double Jeopardy!</td>\n",
       "      <td>QUOTATIONS</td>\n",
       "      <td>1600</td>\n",
       "      <td>margaret thatcher</td>\n",
       "    </tr>\n",
       "    <tr>\n",
       "      <th>216923</th>\n",
       "      <td>2006</td>\n",
       "      <td>Double Jeopardy!</td>\n",
       "      <td>WORLD CAPITALS</td>\n",
       "      <td>2000</td>\n",
       "      <td>paramaribo</td>\n",
       "    </tr>\n",
       "    <tr>\n",
       "      <th>216924</th>\n",
       "      <td>2006</td>\n",
       "      <td>Double Jeopardy!</td>\n",
       "      <td>OFF-BROADWAY</td>\n",
       "      <td>2000</td>\n",
       "      <td>stomp</td>\n",
       "    </tr>\n",
       "    <tr>\n",
       "      <th>216925</th>\n",
       "      <td>2006</td>\n",
       "      <td>Double Jeopardy!</td>\n",
       "      <td>RIDDLE ME THIS</td>\n",
       "      <td>2000</td>\n",
       "      <td>turandot</td>\n",
       "    </tr>\n",
       "    <tr>\n",
       "      <th>216926</th>\n",
       "      <td>2006</td>\n",
       "      <td>Double Jeopardy!</td>\n",
       "      <td>\"T\" BIRDS</td>\n",
       "      <td>2000</td>\n",
       "      <td>titmouse</td>\n",
       "    </tr>\n",
       "    <tr>\n",
       "      <th>216927</th>\n",
       "      <td>2006</td>\n",
       "      <td>Double Jeopardy!</td>\n",
       "      <td>AUTHORS IN THEIR YOUTH</td>\n",
       "      <td>2000</td>\n",
       "      <td>clive barker</td>\n",
       "    </tr>\n",
       "    <tr>\n",
       "      <th>216928</th>\n",
       "      <td>2006</td>\n",
       "      <td>Double Jeopardy!</td>\n",
       "      <td>QUOTATIONS</td>\n",
       "      <td>2000</td>\n",
       "      <td>geronimo</td>\n",
       "    </tr>\n",
       "    <tr>\n",
       "      <th>216929</th>\n",
       "      <td>2006</td>\n",
       "      <td>Final Jeopardy!</td>\n",
       "      <td>HISTORIC NAMES</td>\n",
       "      <td>0</td>\n",
       "      <td>grigori alexandrovich potemkin</td>\n",
       "    </tr>\n",
       "  </tbody>\n",
       "</table>\n",
       "<p>216930 rows × 5 columns</p>\n",
       "</div>"
      ],
      "text/plain": [
       "        year             round                         category  value  \\\n",
       "0       2004         Jeopardy!                          HISTORY    200   \n",
       "1       2004         Jeopardy!  ESPN's TOP 10 ALL-TIME ATHLETES    200   \n",
       "2       2004         Jeopardy!      EVERYBODY TALKS ABOUT IT...    200   \n",
       "3       2004         Jeopardy!                 THE COMPANY LINE    200   \n",
       "4       2004         Jeopardy!              EPITAPHS & TRIBUTES    200   \n",
       "5       2004         Jeopardy!                   3-LETTER WORDS    200   \n",
       "6       2004         Jeopardy!                          HISTORY    400   \n",
       "7       2004         Jeopardy!  ESPN's TOP 10 ALL-TIME ATHLETES    400   \n",
       "8       2004         Jeopardy!      EVERYBODY TALKS ABOUT IT...    400   \n",
       "9       2004         Jeopardy!                 THE COMPANY LINE    400   \n",
       "10      2004         Jeopardy!              EPITAPHS & TRIBUTES    400   \n",
       "11      2004         Jeopardy!                   3-LETTER WORDS    400   \n",
       "12      2004         Jeopardy!                          HISTORY    600   \n",
       "13      2004         Jeopardy!  ESPN's TOP 10 ALL-TIME ATHLETES    600   \n",
       "14      2004         Jeopardy!      EVERYBODY TALKS ABOUT IT...    600   \n",
       "15      2004         Jeopardy!                 THE COMPANY LINE    600   \n",
       "16      2004         Jeopardy!              EPITAPHS & TRIBUTES    600   \n",
       "17      2004         Jeopardy!                   3-LETTER WORDS    600   \n",
       "18      2004         Jeopardy!                          HISTORY    800   \n",
       "19      2004         Jeopardy!  ESPN's TOP 10 ALL-TIME ATHLETES    800   \n",
       "20      2004         Jeopardy!      EVERYBODY TALKS ABOUT IT...    800   \n",
       "21      2004         Jeopardy!                 THE COMPANY LINE    800   \n",
       "22      2004         Jeopardy!              EPITAPHS & TRIBUTES   2000   \n",
       "23      2004         Jeopardy!                   3-LETTER WORDS    800   \n",
       "24      2004         Jeopardy!                          HISTORY   1000   \n",
       "25      2004         Jeopardy!  ESPN's TOP 10 ALL-TIME ATHLETES   1000   \n",
       "26      2004         Jeopardy!                 THE COMPANY LINE   1000   \n",
       "27      2004         Jeopardy!              EPITAPHS & TRIBUTES   1000   \n",
       "28      2004         Jeopardy!                   3-LETTER WORDS   1000   \n",
       "29      2004  Double Jeopardy!       DR. SEUSS AT THE MULTIPLEX    400   \n",
       "...      ...               ...                              ...    ...   \n",
       "216900  2006  Double Jeopardy!                     OFF-BROADWAY    400   \n",
       "216901  2006  Double Jeopardy!                   RIDDLE ME THIS    400   \n",
       "216902  2006  Double Jeopardy!                        \"T\" BIRDS    400   \n",
       "216903  2006  Double Jeopardy!           AUTHORS IN THEIR YOUTH    400   \n",
       "216904  2006  Double Jeopardy!                       QUOTATIONS    400   \n",
       "216905  2006  Double Jeopardy!                   WORLD CAPITALS    800   \n",
       "216906  2006  Double Jeopardy!                     OFF-BROADWAY    800   \n",
       "216907  2006  Double Jeopardy!                   RIDDLE ME THIS    800   \n",
       "216908  2006  Double Jeopardy!                        \"T\" BIRDS    800   \n",
       "216909  2006  Double Jeopardy!           AUTHORS IN THEIR YOUTH    800   \n",
       "216910  2006  Double Jeopardy!                       QUOTATIONS    800   \n",
       "216911  2006  Double Jeopardy!                   WORLD CAPITALS   1200   \n",
       "216912  2006  Double Jeopardy!                     OFF-BROADWAY   1200   \n",
       "216913  2006  Double Jeopardy!                   RIDDLE ME THIS   1200   \n",
       "216914  2006  Double Jeopardy!                        \"T\" BIRDS   1200   \n",
       "216915  2006  Double Jeopardy!           AUTHORS IN THEIR YOUTH   1200   \n",
       "216916  2006  Double Jeopardy!                       QUOTATIONS   2200   \n",
       "216917  2006  Double Jeopardy!                   WORLD CAPITALS   3400   \n",
       "216918  2006  Double Jeopardy!                     OFF-BROADWAY   1600   \n",
       "216919  2006  Double Jeopardy!                   RIDDLE ME THIS   1600   \n",
       "216920  2006  Double Jeopardy!                        \"T\" BIRDS   1600   \n",
       "216921  2006  Double Jeopardy!           AUTHORS IN THEIR YOUTH   1600   \n",
       "216922  2006  Double Jeopardy!                       QUOTATIONS   1600   \n",
       "216923  2006  Double Jeopardy!                   WORLD CAPITALS   2000   \n",
       "216924  2006  Double Jeopardy!                     OFF-BROADWAY   2000   \n",
       "216925  2006  Double Jeopardy!                   RIDDLE ME THIS   2000   \n",
       "216926  2006  Double Jeopardy!                        \"T\" BIRDS   2000   \n",
       "216927  2006  Double Jeopardy!           AUTHORS IN THEIR YOUTH   2000   \n",
       "216928  2006  Double Jeopardy!                       QUOTATIONS   2000   \n",
       "216929  2006   Final Jeopardy!                   HISTORIC NAMES      0   \n",
       "\n",
       "                                                   answer  \n",
       "0                                              copernicus  \n",
       "1                                              jim thorpe  \n",
       "2                                                 arizona  \n",
       "3                                              mcdonald's  \n",
       "4                                              john adams  \n",
       "5                                                     ant  \n",
       "6                                              appian way  \n",
       "7                                          michael jordan  \n",
       "8                                              washington  \n",
       "9                                          crate & barrel  \n",
       "10                                         jackie gleason  \n",
       "11                                                    cud  \n",
       "12                                    ceylon or sri lanka  \n",
       "13                                              jim brown  \n",
       "14                                               uv index  \n",
       "15                                                 bulova  \n",
       "16                                            jesse james  \n",
       "17                                                    imp  \n",
       "18                                          international  \n",
       "19                                             lou gehrig  \n",
       "20                                                morocco  \n",
       "21                                            paul bonwit  \n",
       "22      hattie mcdaniel for her role in gone with the ...  \n",
       "23                                                    era  \n",
       "24                                         congress party  \n",
       "25                                       wilt chamberlain  \n",
       "26                                                     k2  \n",
       "27                                            ethan allen  \n",
       "28                                                    ply  \n",
       "29                                                 horton  \n",
       "...                                                   ...  \n",
       "216900                                       alec baldwin  \n",
       "216901                                             samson  \n",
       "216902                                               teal  \n",
       "216903                                             africa  \n",
       "216904                                      ronald reagan  \n",
       "216905                                           budapest  \n",
       "216906                                          amsterdam  \n",
       "216907                                                man  \n",
       "216908                                             toucan  \n",
       "216909                                     allen ginsberg  \n",
       "216910                                       muhammad ali  \n",
       "216911                                               oslo  \n",
       "216912                                         siddhartha  \n",
       "216913                                       edward elgar  \n",
       "216914                                               tern  \n",
       "216915                               erle stanley gardner  \n",
       "216916                                               work  \n",
       "216917                                         georgetown  \n",
       "216918                                         fanny hill  \n",
       "216919                                           magritte  \n",
       "216920                                           thrushes  \n",
       "216921                                          anaïs nin  \n",
       "216922                                  margaret thatcher  \n",
       "216923                                         paramaribo  \n",
       "216924                                              stomp  \n",
       "216925                                           turandot  \n",
       "216926                                           titmouse  \n",
       "216927                                       clive barker  \n",
       "216928                                           geronimo  \n",
       "216929                     grigori alexandrovich potemkin  \n",
       "\n",
       "[216930 rows x 5 columns]"
      ]
     },
     "metadata": {},
     "output_type": "display_data"
    },
    {
     "ename": "PermissionError",
     "evalue": "[Errno 13] Permission denied: 'jeopardyDFClean.csv'",
     "output_type": "error",
     "traceback": [
      "\u001b[1;31m---------------------------------------------------------------------------\u001b[0m",
      "\u001b[1;31mPermissionError\u001b[0m                           Traceback (most recent call last)",
      "\u001b[1;32m<ipython-input-9-0694107e2cd6>\u001b[0m in \u001b[0;36m<module>\u001b[1;34m()\u001b[0m\n\u001b[0;32m      7\u001b[0m \u001b[0mdfClean\u001b[0m\u001b[1;33m[\u001b[0m\u001b[1;34m'answer'\u001b[0m\u001b[1;33m]\u001b[0m \u001b[1;33m=\u001b[0m \u001b[0mdf\u001b[0m\u001b[1;33m[\u001b[0m\u001b[1;34m' Answer'\u001b[0m\u001b[1;33m]\u001b[0m\u001b[1;33m.\u001b[0m\u001b[0mapply\u001b[0m\u001b[1;33m(\u001b[0m\u001b[0mcleanAnswer\u001b[0m\u001b[1;33m)\u001b[0m\u001b[1;33m\u001b[0m\u001b[0m\n\u001b[0;32m      8\u001b[0m \u001b[0mdisplay\u001b[0m\u001b[1;33m(\u001b[0m\u001b[0mdfClean\u001b[0m\u001b[1;33m)\u001b[0m\u001b[1;33m\u001b[0m\u001b[0m\n\u001b[1;32m----> 9\u001b[1;33m \u001b[0mdfClean\u001b[0m\u001b[1;33m.\u001b[0m\u001b[0mto_csv\u001b[0m\u001b[1;33m(\u001b[0m\u001b[1;34m'jeopardyDFClean.csv'\u001b[0m\u001b[1;33m)\u001b[0m\u001b[1;33m\u001b[0m\u001b[0m\n\u001b[0m",
      "\u001b[1;32m~\\AppData\\Local\\Continuum\\anaconda3\\lib\\site-packages\\pandas\\core\\frame.py\u001b[0m in \u001b[0;36mto_csv\u001b[1;34m(self, path_or_buf, sep, na_rep, float_format, columns, header, index, index_label, mode, encoding, compression, quoting, quotechar, line_terminator, chunksize, tupleize_cols, date_format, doublequote, escapechar, decimal)\u001b[0m\n\u001b[0;32m   1401\u001b[0m                                      \u001b[0mdoublequote\u001b[0m\u001b[1;33m=\u001b[0m\u001b[0mdoublequote\u001b[0m\u001b[1;33m,\u001b[0m\u001b[1;33m\u001b[0m\u001b[0m\n\u001b[0;32m   1402\u001b[0m                                      escapechar=escapechar, decimal=decimal)\n\u001b[1;32m-> 1403\u001b[1;33m         \u001b[0mformatter\u001b[0m\u001b[1;33m.\u001b[0m\u001b[0msave\u001b[0m\u001b[1;33m(\u001b[0m\u001b[1;33m)\u001b[0m\u001b[1;33m\u001b[0m\u001b[0m\n\u001b[0m\u001b[0;32m   1404\u001b[0m \u001b[1;33m\u001b[0m\u001b[0m\n\u001b[0;32m   1405\u001b[0m         \u001b[1;32mif\u001b[0m \u001b[0mpath_or_buf\u001b[0m \u001b[1;32mis\u001b[0m \u001b[1;32mNone\u001b[0m\u001b[1;33m:\u001b[0m\u001b[1;33m\u001b[0m\u001b[0m\n",
      "\u001b[1;32m~\\AppData\\Local\\Continuum\\anaconda3\\lib\\site-packages\\pandas\\io\\formats\\format.py\u001b[0m in \u001b[0;36msave\u001b[1;34m(self)\u001b[0m\n\u001b[0;32m   1575\u001b[0m             f, handles = _get_handle(self.path_or_buf, self.mode,\n\u001b[0;32m   1576\u001b[0m                                      \u001b[0mencoding\u001b[0m\u001b[1;33m=\u001b[0m\u001b[0mself\u001b[0m\u001b[1;33m.\u001b[0m\u001b[0mencoding\u001b[0m\u001b[1;33m,\u001b[0m\u001b[1;33m\u001b[0m\u001b[0m\n\u001b[1;32m-> 1577\u001b[1;33m                                      compression=self.compression)\n\u001b[0m\u001b[0;32m   1578\u001b[0m             \u001b[0mclose\u001b[0m \u001b[1;33m=\u001b[0m \u001b[1;32mTrue\u001b[0m\u001b[1;33m\u001b[0m\u001b[0m\n\u001b[0;32m   1579\u001b[0m \u001b[1;33m\u001b[0m\u001b[0m\n",
      "\u001b[1;32m~\\AppData\\Local\\Continuum\\anaconda3\\lib\\site-packages\\pandas\\io\\common.py\u001b[0m in \u001b[0;36m_get_handle\u001b[1;34m(path_or_buf, mode, encoding, compression, memory_map, is_text)\u001b[0m\n\u001b[0;32m    383\u001b[0m         \u001b[1;32melif\u001b[0m \u001b[0mis_text\u001b[0m\u001b[1;33m:\u001b[0m\u001b[1;33m\u001b[0m\u001b[0m\n\u001b[0;32m    384\u001b[0m             \u001b[1;31m# Python 3 and no explicit encoding\u001b[0m\u001b[1;33m\u001b[0m\u001b[1;33m\u001b[0m\u001b[0m\n\u001b[1;32m--> 385\u001b[1;33m             \u001b[0mf\u001b[0m \u001b[1;33m=\u001b[0m \u001b[0mopen\u001b[0m\u001b[1;33m(\u001b[0m\u001b[0mpath_or_buf\u001b[0m\u001b[1;33m,\u001b[0m \u001b[0mmode\u001b[0m\u001b[1;33m,\u001b[0m \u001b[0merrors\u001b[0m\u001b[1;33m=\u001b[0m\u001b[1;34m'replace'\u001b[0m\u001b[1;33m)\u001b[0m\u001b[1;33m\u001b[0m\u001b[0m\n\u001b[0m\u001b[0;32m    386\u001b[0m         \u001b[1;32melse\u001b[0m\u001b[1;33m:\u001b[0m\u001b[1;33m\u001b[0m\u001b[0m\n\u001b[0;32m    387\u001b[0m             \u001b[1;31m# Python 3 and binary mode\u001b[0m\u001b[1;33m\u001b[0m\u001b[1;33m\u001b[0m\u001b[0m\n",
      "\u001b[1;31mPermissionError\u001b[0m: [Errno 13] Permission denied: 'jeopardyDFClean.csv'"
     ]
    }
   ],
   "source": [
    "dfClean = pd.DataFrame()\n",
    "#dfClean.columns = ['Year', 'Round', 'Category', 'Value', 'Answer']\n",
    "dfClean['year'] = df[' Air Date'].apply(cleanDate)\n",
    "dfClean['round'] = df[' Round']\n",
    "dfClean['category'] = df[' Category']\n",
    "dfClean['value'] = df[' Value'].apply(convertValues)\n",
    "dfClean['answer'] = df[' Answer'].apply(cleanAnswer)\n",
    "display(dfClean)\n",
    "dfClean.to_csv('jeopardyDFClean.csv')"
   ]
  },
  {
   "cell_type": "markdown",
   "metadata": {},
   "source": [
    "# Data Visualization\n",
    "\n",
    "In order to put our hypothesis to the test, we want to find out which categories and answers are the most common, as those would be good subjects to study in prepartion of competing on Jeopardy!. \n",
    "\n",
    "To get a sense of how the most common answers and categories vary (or not) in frequency over time, we will create two heat maps. The first will be a graph with answers on the y axis and year on the x axis. The second will be a graph with categories on the y axis and year on the x axis. Both graphs will be colored based on how many times the answer or category appeared in a given year."
   ]
  },
  {
   "cell_type": "code",
   "execution_count": 10,
   "metadata": {},
   "outputs": [],
   "source": [
    "minYear = int(dfClean['year'].min())\n",
    "maxYear = int(dfClean['year'].max())"
   ]
  },
  {
   "cell_type": "code",
   "execution_count": 11,
   "metadata": {},
   "outputs": [
    {
     "data": {
      "image/png": "[encoded data removed]",
      "text/plain": [
       "<matplotlib.figure.Figure at 0x265aa18dac8>"
      ]
     },
     "metadata": {},
     "output_type": "display_data"
    }
   ],
   "source": [
    "allCatCounts = dfClean['category'].value_counts()\n",
    "fig1 = plt.gcf()\n",
    "plt.hist(allCatCounts, normed=True, bins=100)\n",
    "plt.show()"
   ]
  },
  {
   "cell_type": "code",
   "execution_count": 12,
   "metadata": {},
   "outputs": [
    {
     "data": {
      "image/png": "[encoded data removed]",
      "text/plain": [
       "<matplotlib.figure.Figure at 0x265ab332b70>"
      ]
     },
     "metadata": {},
     "output_type": "display_data"
    }
   ],
   "source": [
    "allAnswerCounts = dfClean['answer'].value_counts()\n",
    "fig2 = plt.gcf()\n",
    "plt.hist(allAnswerCounts, normed=True, bins=100)\n",
    "plt.show()"
   ]
  },
  {
   "cell_type": "code",
   "execution_count": 13,
   "metadata": {},
   "outputs": [],
   "source": [
    "catTop = dfClean['category'].value_counts()[:25]"
   ]
  },
  {
   "cell_type": "code",
   "execution_count": 14,
   "metadata": {},
   "outputs": [],
   "source": [
    "cats = []\n",
    "\n",
    "for year in range(minYear, maxYear+1):\n",
    "    yearCats = dfClean[dfClean['year']==str(year)]\n",
    "    countsInYear = []\n",
    "    for i in range(0, len(catTop)):\n",
    "        cat = yearCats[yearCats['category']==catTop.index[i]]\n",
    "        countsInYear.append(len(cat))\n",
    "    \n",
    "    cats.append(countsInYear)\n",
    "    \n",
    "cats = np.transpose(cats)"
   ]
  },
  {
   "cell_type": "code",
   "execution_count": 15,
   "metadata": {},
   "outputs": [
    {
     "data": {
      "image/png": "[encoded data removed]",
      "text/plain": [
       "<matplotlib.figure.Figure at 0x265ab7b64a8>"
      ]
     },
     "metadata": {},
     "output_type": "display_data"
    }
   ],
   "source": [
    "plt.figure(figsize=(24,12))\n",
    "fig3 = sns.heatmap(cats, annot=False, fmt=\"d\")\n",
    "\n",
    "fig3.set_xticklabels(range(1984,2012+1))\n",
    "fig3.set_yticklabels(catTop.index, rotation=0)\n",
    "plt.show()"
   ]
  },
  {
   "cell_type": "code",
   "execution_count": 16,
   "metadata": {
    "collapsed": true
   },
   "outputs": [],
   "source": [
    "answerTop = dfClean['answer'].value_counts()[:25]"
   ]
  },
  {
   "cell_type": "code",
   "execution_count": 17,
   "metadata": {
    "collapsed": true
   },
   "outputs": [],
   "source": [
    "answers = []\n",
    "\n",
    "for year in range(minYear, maxYear+1):\n",
    "    yearAnswers = dfClean[dfClean['year']==str(year)]\n",
    "    answerCountsInYear = []\n",
    "    for i in range(0, len(answerTop)):\n",
    "        answer = yearAnswers[yearAnswers['category']==answerTop.index[i]]\n",
    "        answerCountsInYear.append(len(cat))\n",
    "    \n",
    "    answers.append(answerCountsInYear)\n",
    "    \n",
    "answers = np.transpose(answers)"
   ]
  },
  {
   "cell_type": "code",
   "execution_count": 18,
   "metadata": {},
   "outputs": [
    {
     "data": {
      "image/png": "[encoded data removed]",
      "text/plain": [
       "<matplotlib.figure.Figure at 0x265ab97ec18>"
      ]
     },
     "metadata": {},
     "output_type": "display_data"
    }
   ],
   "source": [
    "plt.figure(figsize=(24,12))\n",
    "fig4 = sns.heatmap(cats, annot=False, fmt=\"d\")\n",
    "\n",
    "fig4.set_xticklabels(range(1984,2012+1))\n",
    "fig4.set_yticklabels(answerTop.index, rotation=0)\n",
    "plt.show()"
   ]
  },
  {
   "cell_type": "markdown",
   "metadata": {},
   "source": [
    "# Data Analysis and Results"
   ]
  },
  {
   "cell_type": "code",
   "execution_count": 19,
   "metadata": {
    "collapsed": true
   },
   "outputs": [],
   "source": [
    "answers = dfClean['answer']"
   ]
  },
  {
   "cell_type": "code",
   "execution_count": 20,
   "metadata": {},
   "outputs": [
    {
     "data": {
      "text/plain": [
       "array(['copernicus', 'jim thorpe', 'arizona', ..., 'thrushes', 'anaïs nin',\n",
       "       'grigori alexandrovich potemkin'], dtype=object)"
      ]
     },
     "execution_count": 20,
     "metadata": {},
     "output_type": "execute_result"
    }
   ],
   "source": [
    "answers.unique()"
   ]
  },
  {
   "cell_type": "code",
   "execution_count": 21,
   "metadata": {},
   "outputs": [
    {
     "data": {
      "text/plain": [
       "69089"
      ]
     },
     "execution_count": 21,
     "metadata": {},
     "output_type": "execute_result"
    }
   ],
   "source": [
    "len(answers.unique())"
   ]
  },
  {
   "cell_type": "code",
   "execution_count": 22,
   "metadata": {},
   "outputs": [
    {
     "data": {
      "text/plain": [
       "array(['copernicus', 'jim thorpe', 'arizona', \"mcdonald's\", 'john adams',\n",
       "       'ant', 'appian way', 'michael jordan', 'washington',\n",
       "       'crate & barrel'], dtype=object)"
      ]
     },
     "execution_count": 22,
     "metadata": {},
     "output_type": "execute_result"
    }
   ],
   "source": [
    "answers.unique()[:10]"
   ]
  },
  {
   "cell_type": "code",
   "execution_count": 23,
   "metadata": {},
   "outputs": [
    {
     "data": {
      "text/plain": [
       "array(['reapers', 'a&p', 'electoral college vote', 'hg',\n",
       "       'you are so beautiful', 'laurens hammond', 'rowls', 'thrushes',\n",
       "       'anaïs nin', 'grigori alexandrovich potemkin'], dtype=object)"
      ]
     },
     "execution_count": 23,
     "metadata": {},
     "output_type": "execute_result"
    }
   ],
   "source": [
    "answers.unique()[-10:]"
   ]
  },
  {
   "cell_type": "code",
   "execution_count": 24,
   "metadata": {
    "collapsed": true
   },
   "outputs": [],
   "source": [
    "counts = answers.value_counts()"
   ]
  },
  {
   "cell_type": "code",
   "execution_count": 25,
   "metadata": {},
   "outputs": [
    {
     "data": {
      "text/plain": [
       "count     216930\n",
       "unique     69089\n",
       "top        china\n",
       "freq         216\n",
       "Name: answer, dtype: object"
      ]
     },
     "execution_count": 25,
     "metadata": {},
     "output_type": "execute_result"
    }
   ],
   "source": [
    "answers.describe()"
   ]
  },
  {
   "cell_type": "code",
   "execution_count": 26,
   "metadata": {},
   "outputs": [
    {
     "name": "stdout",
     "output_type": "stream",
     "text": [
      "Mean of counts: 3.139863075163919\n",
      "Mode of counts: 1\n",
      "Median of counts: 1.0\n"
     ]
    }
   ],
   "source": [
    "print('Mean of counts: ' + str(counts.mean()))\n",
    "print('Mode of counts: ' + str(counts.mode()[0]))\n",
    "print('Median of counts: ' + str(counts.median()))"
   ]
  },
  {
   "cell_type": "code",
   "execution_count": 27,
   "metadata": {},
   "outputs": [
    {
     "name": "stdout",
     "output_type": "stream",
     "text": [
      "How many answers appear exactly once? : 40698\n",
      "How many answers appear twice? : 9914\n",
      "How many answers appear 5 or more times? : 10329\n",
      "How many answers appear 10 or more times? : 4203\n",
      "How many answers appear 50 or more times? : 228\n",
      "How many answers appear 100 or more times? : 50\n",
      "How many answers appear 150 or more times? : 14\n",
      "How many answers appear 200 or more times? : 2\n"
     ]
    }
   ],
   "source": [
    "print('How many answers appear exactly once? : ' + str(len(counts[counts == 1])))\n",
    "print('How many answers appear twice? : ' + str(len(counts[counts == 2])))\n",
    "print('How many answers appear 5 or more times? : ' + str(len(counts[counts >= 5])))\n",
    "print('How many answers appear 10 or more times? : ' + str(len(counts[counts >= 10])))\n",
    "print('How many answers appear 50 or more times? : ' + str(len(counts[counts >= 50])))\n",
    "print('How many answers appear 100 or more times? : ' + str(len(counts[counts >= 100])))\n",
    "print('How many answers appear 150 or more times? : ' + str(len(counts[counts >= 150])))\n",
    "print('How many answers appear 200 or more times? : ' + str(len(counts[counts >= 200])))"
   ]
  },
  {
   "cell_type": "code",
   "execution_count": 28,
   "metadata": {},
   "outputs": [
    {
     "name": "stdout",
     "output_type": "stream",
     "text": [
      "The occurrance rate of the most common answer (china): 0.099571290278% \n"
     ]
    }
   ],
   "source": [
    "print('The occurrance rate of the most common answer (' + str(counts.keys()[0]) + '): ' + str((counts[0]/len(answers))*100) + '% ')"
   ]
  },
  {
   "cell_type": "code",
   "execution_count": 29,
   "metadata": {},
   "outputs": [
    {
     "data": {
      "image/png": "[encoded data removed]",
      "text/plain": [
       "<matplotlib.figure.Figure at 0x265ab9b7cc0>"
      ]
     },
     "execution_count": 29,
     "metadata": {},
     "output_type": "execute_result"
    }
   ],
   "source": [
    "counts[:10].plot(kind='bar')\n",
    "\n",
    "fig5 = plt.gcf()\n",
    "fig5"
   ]
  },
  {
   "cell_type": "code",
   "execution_count": 30,
   "metadata": {},
   "outputs": [
    {
     "data": {
      "text/plain": [
       "0.8297607523164154"
      ]
     },
     "execution_count": 30,
     "metadata": {},
     "output_type": "execute_result"
    }
   ],
   "source": [
    "(len(answers[answers.str.isnumeric()])/len(answers))*100"
   ]
  },
  {
   "cell_type": "code",
   "execution_count": 31,
   "metadata": {},
   "outputs": [
    {
     "name": "stdout",
     "output_type": "stream",
     "text": [
      "Number of unique categories: 27995\n"
     ]
    }
   ],
   "source": [
    "categories = dfClean['category']\n",
    "categoryCounts = categories.value_counts()\n",
    "uniqueCat = categories.unique()\n",
    "print(\"Number of unique categories: \" + str(len(uniqueCat)))"
   ]
  },
  {
   "cell_type": "markdown",
   "metadata": {},
   "source": [
    "# Category Analysis\n",
    "First, we want to know what the most common categories are.\n",
    "Listing them here (and categorizing with a quick look), we can see that all 4 of the subjects in our list are common."
   ]
  },
  {
   "cell_type": "code",
   "execution_count": 32,
   "metadata": {
    "collapsed": true
   },
   "outputs": [],
   "source": [
    "countCats = categories.value_counts()"
   ]
  },
  {
   "cell_type": "markdown",
   "metadata": {
    "collapsed": true
   },
   "source": [
    "# Privacy/Ethics Considerations\n",
    "\n",
    "The data we used raises little to no ethics or privacy considerations.\n",
    "\n",
    "We had full permission to use the data as noted on the original Reddit thread, so long as we give the original poster credit and let them know of our project.\n",
    "\n",
    "In terms of bias in collection of our data, there is a slight chronological bias to our data set. The person who collected the data had only about 85% of total questions at the time of their work. This meant that the dataset did not contain games from the last previous two years to the date of the original thread post. This could affect the data as any answers from those years will not be reflected in our observation. We hope this will be a minor issue as the game has had no major redesigns and the questions have not changed in wording nor relative difficulty.\n",
    "\n",
    "In terms of privacy considerations, none of the data collected is linked personally to anyone. There are no names, birthdates, hometowns or any identifying points of data in the CSV file. However, the CSV files does include show air dates, which would mean that if a person were so inclined, they could figure out which people were on the show on a particular day. This is information that is already public on the Jeopardy Archive site."
   ]
  },
  {
   "cell_type": "markdown",
   "metadata": {},
   "source": [
    "# Conclusions and Discussion"
   ]
  }
 ],
 "metadata": {
  "kernelspec": {
   "display_name": "Python 3",
   "language": "python",
   "name": "python3"
  },
  "language_info": {
   "codemirror_mode": {
    "name": "ipython",
    "version": 3
   },
   "file_extension": ".py",
   "mimetype": "text/x-python",
   "name": "python",
   "nbconvert_exporter": "python",
   "pygments_lexer": "ipython3",
   "version": "3.6.3"
  }
 },
 "nbformat": 4,
 "nbformat_minor": 2
}
