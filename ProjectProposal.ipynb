{
 "cells": [
  {
   "cell_type": "markdown",
   "metadata": {},
   "source": [
    "# COGS 108 - Project Proposal"
   ]
  },
  {
   "cell_type": "markdown",
   "metadata": {},
   "source": [
    "## Important\n",
    "\n",
    "- Make sure all group members (3-5 people) are listed in the group members section.\n",
    "- ONE, and only one, member of your group should upload this notebook to TritonED. \n",
    "- Each member of the group will receive the same grade on this assignment. \n",
    "- Keep the file name the same: submit the file 'ProjectProposal.ipynb'"
   ]
  },
  {
   "cell_type": "markdown",
   "metadata": {},
   "source": [
    "## Overview"
   ]
  },
  {
   "cell_type": "markdown",
   "metadata": {},
   "source": [
    "Read the project description and detailed instructions for this assignment in the 'ProjectOutline' document."
   ]
  },
  {
   "cell_type": "markdown",
   "metadata": {},
   "source": [
    "## Group Members: Fill in the Student IDs of each group member here\n",
    "\n",
    "Replace the lines below to list each persons full student ID. Add lines as needed for your group size, and make sure each ID is listed on a separate line. \n",
    "\n",
    "- A12725293\n",
    "- A13175632\n",
    "- A13034643"
   ]
  },
  {
   "cell_type": "markdown",
   "metadata": {},
   "source": [
    "### Research Question\n",
    "\n",
    "What is your research question? (1-2 sentences)"
   ]
  },
  {
   "cell_type": "markdown",
   "metadata": {},
   "source": [
    "Is there an optimal strategy to preparing to be a contestant on Jeopardy!?"
   ]
  },
  {
   "cell_type": "markdown",
   "metadata": {},
   "source": [
    "### Hypothesis\n",
    "\n",
    "What is your main hypothesis and predictions? (2-3 sentences)"
   ]
  },
  {
   "cell_type": "markdown",
   "metadata": {},
   "source": [
    "After watching, and playing along with Jeopardy! for many years, there are quite a few answers that come up more often than one would expect. Our hypothesis is that there are some answers that are much more common than others, and knowing the most common ones could prove as one viable strategy to being a successful Jeopardy player."
   ]
  },
  {
   "cell_type": "markdown",
   "metadata": {},
   "source": [
    "### Dataset(s)\n",
    "\n",
    "What data will you use to answer your question? Describe the dataset(s) in terms of number of observations, what kind of features it contains, etc. You must use at least one dataset containing at least approximately 1000 observations (if your data are smaller but you feel they are sufficient, email Prof. Voytek). You are welcome (and in fact recommended) to find multiple datasets! If you do so, describe each one, and briefly explain how you will combine them together. "
   ]
  },
  {
   "cell_type": "markdown",
   "metadata": {},
   "source": [
    "*Fill in your dataset information here*\n",
    "\n",
    "(Copy this information for each dataset)\n",
    "- Dataset Name: Jeopardy! Questions in JSON file\n",
    "- Link to the dataset:https://www.reddit.com/r/datasets/comments/1uyd0t/200000_jeopardy_questions_in_a_json_file/\n",
    "- Number of observations:216,930\n",
    "\n",
    "1-2 sentences describing the dataset. \n",
    "\n",
    "A preface to the dataset: Jeopardy! is a game show where contestants are given a clue and are required to give the question that the clue answers. An example of this would be:\n",
    "\n",
    "    Clue: This person has received a failing grade in a class called \"Quality of Life\" at the University of Southern California. \n",
    "    Question: Who is Bradley Voytek?\n",
    "    \n",
    "This dataset organizes the data by giving the monetary value of the correst response, which will be referred to as the answer from now on, the clue, the category of the clue, and the answer.\n",
    "\n"
   ]
  },
  {
   "cell_type": "markdown",
   "metadata": {},
   "source": [
    "### Background and Prior Work\n",
    "\n",
    "Why is this question of interest, what background information led you to your hypothesis, and why is this important?\n",
    "\n",
    "Find some relevant prior work, and reference those sources. Even if you think you have a totally novel question, find the most similar prior work that you can and discuss how it relates to your project. \n",
    "\n",
    "References can be research publications, but they need not be. Blogs, github repositories, company websites, etc., are all viable references if they are relevant to your project.\n",
    "\n",
    "(2-3 paragraphs, including at least 2 references)\n"
   ]
  },
  {
   "cell_type": "markdown",
   "metadata": {},
   "source": [
    "*Fill in your background and prior work here* \n",
    "\n",
    "This question is of particular interest to one of our group members, Brandon Nguyen, who was a former contestant of another game show and is an avid Jeopardy fan. During his time watching and follow Jeopardy, Brandon has noticed that some of the most successful Jeopardy players had very obvious strategies in order to go on massive winning streaks. Often celebrated as one of the most successful Jeopardy players, if not the most successful, Ken Jennings went on a massive 74 game winning streak and his Jeopardy earnings are in the millions. In more recent years, contestant Arthur Chu used game theory to play which gave him a brief peiord of noteriety in addition to a successful, albeit short, winning streak on the game show. If there was an optimal strategy for Jeopardy other than knowing everything and having instant recall, it could redefine what it takes to be a Jeopardy champion, and by association, one of the smarted people on the planet.\n",
    "\n",
    "Some background information that led to the hypothesis comes from an article written about Artuhur Chu. He noted that the game has patterns as to which answers are most likely to appear in certain categories or which answers are most likely to appear based on phrases in the clues. We would like to see if this is really true or just a result of human bias. If this were to be true, this might lead to people optimizing stratgies based around knowing the most common answers, or knowing the most common answers that have higher monetary values.\n",
    "\n",
    "References (include links):\n",
    "- 1) https://www.theguardian.com/tv-and-radio/2014/feb/24/arthur-chu-jeopardy-misunderstood-mastermind-game-theory\n",
    "- 2) https://www.dataquest.io/m/210/guided-project%3A-winning-jeopardy"
   ]
  },
  {
   "cell_type": "markdown",
   "metadata": {},
   "source": [
    "### Proposed Methods\n",
    "\n",
    "What methods will you use to analyze your data?\n",
    "\n",
    "- How 'clean' is the data? To the extent that it requires cleaning, how will you do so?\n",
    "- How will you analyze the data? Be as specific as you can. Briefly mention any pre-processing steps that are required for your methods (for example, checking data distributions and performing any transformations that may be required). Include a brief outline of how you will apply your chosen method(s). \n",
    "- What do you plan to report? Briefly mention any key visualizations you plan to create, and/or the kind of results you will be able to report that address your question (this could be, for example, the outcome of some statistical test(s), prediction error on a model, a model fit parameter, etc.).\n",
    "- Include a list of packages you expect to use for you project. If you plan to use packages we have not used in class, add a very brief description about them (a few words is sufficient). "
   ]
  },
  {
   "cell_type": "markdown",
   "metadata": {},
   "source": [
    "*Fill in your proposed methods information here:*\n",
    "\n",
    "*Data Cleaning (2-3 sentences)*\n",
    "\n",
    "The data itself is mostly clean, we would just need to delete a few columns including show air date and show number. Additionally, there are some jeopardy clues that were not properly scraped from the archive and we'll have to do something about that. We figure deleting them, or going through and adding in those entries ourselves. Also, in order to standardize the monetary values, clues in the double jeopardy rounds will have their monetary values cut in half to match the normal jeopardy rounds.\n",
    "\n",
    "*Data Analysis (1-2 paragraphs)*\n",
    "\n",
    "Some pre-processing that we will have to do is going through the dataset and finding all double jeopardy round clues and dividing the monetary value of those clues by 2. We want to cut the monetary value in half in order to standardize the values to $200, $400, $600, $800, and $1000 so that they match the first round questions. \n",
    "\n",
    "Most of our data analysis will revolve around frequency so we will be producing histograms for the answers. We will be looking at the frequency of answers based on category, money value, and time. For example, we will find the most common answers for a given category, or the most common answers for a given money value, or the most common answers for a given 5 year period. Most of this analysis will require counting and the use of histograms, and we will calculate percentage values that will tell us the likelihood of seeing different answers based on the three factors above. \n",
    "\n",
    "We may caclulate interesting statistics for each answer such as calculating the total or mean monetary value across the answer's corresponding clues. On most of our graphs, the dependent variable will be the monetary value of the clue and the independent variable will be either the clue, or the category. We imagine most of our graphs to be scatter plots of some kind due to the very large and diverse dataset we have. For instance even if we find that one answer might be used 40 times, there are still over 200000 responses and still tens of thousands of unique answers so a bar graph might look overwhelming. \n",
    "\n",
    "Once we have the graphs done, we may try to run different regression tests to see if we can find any predictive models that might be interesting in terms of the game show.\n",
    "\n",
    "*What to report (2-3 sentences)*\n",
    "\n",
    "We plan to create an interactive visual for the most common answers with filters for category, money, and time. We also plan to report a potential strategy for maximizing a player's money in the game. Another key visual that we will include is an answer cloud that contains the most popular answers, such that the more popular the answer is, the bigger the answer appears in the visual.\n",
    "\n",
    "Packages we plan to use:\n",
    "- pandas\n",
    "- mathplotlib\n",
    "- beautifulsoup"
   ]
  },
  {
   "cell_type": "markdown",
   "metadata": {},
   "source": [
    "### Ethics and Privacy\n",
    "\n",
    "Briefly acknowledge and address any potential issues of ethics and privacy for the proposed project. In particular:\n",
    "- Do you have permission to use this data, for this purpose?\n",
    "- Are there privacy concerns regarding your datasets that you need to deal with, and/or terms of use that you need to comply with?\n",
    "- Are there potential biases in your dataset(s), in terms of who it composes, and how it was collected, that may be problematic in terms of it allowing for equitable analysis? (For example, does your data exclude particular populations, or is it likely to reflect particular human biases in a way that could be a problem?) \n",
    "- Are there any other issues related to your topic area, data, and/or analyses that are potentially problematic in terms of data privacy and equitable impact?\n",
    "- How will you handle any issues you identify?\n",
    "\n",
    "(1-2 paragraphs)\n",
    "\n",
    "We do have permission to use this data as the original poster on Reddit gave permission to anyone who wanted to use it. There are not really any privacy concerns as none of this data is linked to any of the contestants personally and explicitly. The only aspect of the dataset that might be an issue is the date of the clue/answer. If a person were so inclined, they could look up the date of the show and figure out who was on it, but all that information is public on the J! Archive anyways. There are almost no potential biases we have found thus far. The data was scraped from the J! archive and does not exclude any of the questions during the time the data was being collected. All Jeopardy questions were included, even if they went unanswered on the show. The Kids', Teens', College Students', and Champions' rounds were all included as well.\n",
    "\n",
    "As of right now, we do not forsee any particular issues in terms of data biases or privacy concerns. However, after further inspection, if we do come across issues, we will discuss it as a team and then bring it to a IA/TA/Professor if we cannot find our own solution to it."
   ]
  },
  {
   "cell_type": "markdown",
   "metadata": {},
   "source": [
    "### Discussion\n",
    "\n",
    "Discuss your project, looking forward to what your results might mean, how they fit it in with what is already known, and what problems you may encounter. \n",
    "\n",
    "In particular:\n",
    "- If your analyses and hypotheses are correct, what will be the contribution of this project to the topic domain? \n",
    "- Alternatively, what will you do if you methods don't work and/or your hypotheses are wrong? \n",
    "- What are the potential pitfalls and potential confounds of your data and/or methods that may cause problems, and/or influence your interpretations?\n",
    "\n",
    "(2-3 paragraphs)"
   ]
  },
  {
   "cell_type": "markdown",
   "metadata": {},
   "source": [
    "The topic domain is game theory and game strategy concerning Jeopardy! Should our analyses and hypotheses hold true it could change the meta of how Jeopardy is played and what it takes to be a Jeopardy champion. Also, if our results are drastic enough, it could call for some changes on how questions/answers are written and selected for the game show. For instance, if it came to light that even one answer was common enough to be 1% of all total answers, then that would mean Jeopardy needs to take that answer out of circulation for awhile, otherwise it would almost be guaranteed that, that answer appears every one or two games. The most likely scenario of the impact of our analyses and hypotheses is that it may help to inform contestant's strategies, but not outright shape them.\n",
    "\n",
    "Should our methods not work or if our hypotheses are wrong, Jeopardy will continue as it has and not much will change. Even if our hypotheses are wrong, we will have found a few interesting facts about the game of Jeopardy. If our hypotheses turns out incorrect, the first thing we would do is go back to the data and make sure we handled the data properly. We would check how we processed it and cleaned it, and then we would check our methods for running analyses and data visualization to see if our flaws were there.\n",
    "\n",
    "One of the potential pitfalls we forsee is that there are a lot of unique answers that may only appear once and that have a high monetary value that may skew the data. For instance, if the answer was indeed \"Bradley Voytek\" and the monetary value of the answer was $1000, that answer would have a very high monetary value, but knowing that answer would not be as impactful since that answer has only appeared once. So, balancing the data in terms of frequency/cost might be an issue. Some of our analysis will rely heavily on transforming the data to make any observations on them easier to make. If our method of transformation is flawed, everything that comes after may be flawed too: our observations, any type of models we make, and even our visualizations may be wrong."
   ]
  }
 ],
 "metadata": {
  "kernelspec": {
   "display_name": "Python 3",
   "language": "python",
   "name": "python3"
  },
  "language_info": {
   "codemirror_mode": {
    "name": "ipython",
    "version": 3
   },
   "file_extension": ".py",
   "mimetype": "text/x-python",
   "name": "python",
   "nbconvert_exporter": "python",
   "pygments_lexer": "ipython3",
   "version": "3.6.3"
  }
 },
 "nbformat": 4,
 "nbformat_minor": 2
}
