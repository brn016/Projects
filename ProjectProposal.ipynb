{
 "cells": [
  {
   "cell_type": "markdown",
   "metadata": {},
   "source": [
    "# COGS 108 - Project Proposal"
   ]
  },
  {
   "cell_type": "markdown",
   "metadata": {},
   "source": [
    "## Important\n",
    "\n",
    "- Make sure all group members (3-5 people) are listed in the group members section.\n",
    "- ONE, and only one, member of your group should upload this notebook to TritonED. \n",
    "- Each member of the group will receive the same grade on this assignment. \n",
    "- Keep the file name the same: submit the file 'ProjectProposal.ipynb'"
   ]
  },
  {
   "cell_type": "markdown",
   "metadata": {},
   "source": [
    "## Overview"
   ]
  },
  {
   "cell_type": "markdown",
   "metadata": {},
   "source": [
    "Read the project description and detailed instructions for this assignment in the 'ProjectOutline' document."
   ]
  },
  {
   "cell_type": "markdown",
   "metadata": {},
   "source": [
    "## Group Members: Fill in the Student IDs of each group member here\n",
    "\n",
    "Replace the lines below to list each persons full student ID. Add lines as needed for your group size, and make sure each ID is listed on a separate line. \n",
    "\n",
    "- A12725293\n",
    "- A13175632\n",
    "- A13034643"
   ]
  },
  {
   "cell_type": "markdown",
   "metadata": {},
   "source": [
    "### Research Question\n",
    "\n",
    "What is your research question? (1-2 sentences)"
   ]
  },
  {
   "cell_type": "markdown",
   "metadata": {},
   "source": [
    "Is there an optimal strategy to preparing to be a contestant on Jeopardy!?"
   ]
  },
  {
   "cell_type": "markdown",
   "metadata": {},
   "source": [
    "### Hypothesis\n",
    "\n",
    "What is your main hypothesis and predictions? (2-3 sentences)"
   ]
  },
  {
   "cell_type": "markdown",
   "metadata": {},
   "source": [
    "After watching, and playing along with Jeopardy! for many years, there are quite a few answers that come up more often than one would expect. Our hypothesis is that there are some answers that are much more common than others, and knowing the most common ones could prove as one viable strategy to being a successful Jeopardy player."
   ]
  },
  {
   "cell_type": "markdown",
   "metadata": {},
   "source": [
    "### Dataset(s)\n",
    "\n",
    "What data will you use to answer your question? Describe the dataset(s) in terms of number of observations, what kind of features it contains, etc. You must use at least one dataset containing at least approximately 1000 observations (if your data are smaller but you feel they are sufficient, email Prof. Voytek). You are welcome (and in fact recommended) to find multiple datasets! If you do so, describe each one, and briefly explain how you will combine them together. "
   ]
  },
  {
   "cell_type": "markdown",
   "metadata": {},
   "source": [
    "*Fill in your dataset information here*\n",
    "\n",
    "(Copy this information for each dataset)\n",
    "- Dataset Name: Jeopardy! Questions in JSON file\n",
    "- Link to the dataset:https://www.reddit.com/r/datasets/comments/1uyd0t/200000_jeopardy_questions_in_a_json_file/\n",
    "- Number of observations:216,930\n",
    "\n",
    "1-2 sentences describing the dataset. \n",
    "\n",
    "A preface to the dataset: Jeopardy! is a game show where contestants are given a clue and are required to give the question that the clue answers. An example of this would be:\n",
    "\n",
    "    Clue: This person has received a failing grade in a class called \"Quality of Life\" at the University of Southern California. \n",
    "    Question: Who is Bradley Voytek?\n",
    "    \n",
    "This dataset organizes the data by giving the monetary value of the correst response, which will be referred to as the answer from now on, the clue, the category of the clue, and the answer.\n",
    "\n"
   ]
  },
  {
   "cell_type": "markdown",
   "metadata": {},
   "source": [
    "### Background and Prior Work\n",
    "\n",
    "Why is this question of interest, what background information led you to your hypothesis, and why is this important?\n",
    "\n",
    "Find some relevant prior work, and reference those sources. Even if you think you have a totally novel question, find the most similar prior work that you can and discuss how it relates to your project. \n",
    "\n",
    "References can be research publications, but they need not be. Blogs, github repositories, company websites, etc., are all viable references if they are relevant to your project.\n",
    "\n",
    "(2-3 paragraphs, including at least 2 references)\n"
   ]
  },
  {
   "cell_type": "markdown",
   "metadata": {},
   "source": [
    "*Fill in your background and prior work here* \n",
    "\n",
    "This question is of particular interest to one of our group members, Brandon Nguyen, who was a former contestant of another game show and is an avid Jeopardy fan. During his time watching and follow Jeopardy, Brandon has noticed that some of the most successful Jeopardy players had very obvious strategies in order to go on massive winning streaks. Often celebrated as one of the most successful Jeopardy players, if not the most successful, Ken Jennings went on a massive 74 game winning streak and his Jeopardy earnings are in the millions. In more recent years, contestant Arthur Chu used game theory to play which gave him a brief peiord of noteriety in addition to a successful, albeit short, winning streak on the game show. If there was an optimal strategy for Jeopardy other than knowing everything and having instant recall, it could redefine what it takes to be a Jeopardy champion, and by association, one of the smarted people on the planet.\n",
    "\n",
    "Some background information that led to the hypothesis comes from an article written about Artuhur Chu. He noted that the game has patterns as to which answers are most likely to appear in certain categories or which answers are most likely to appear based on phrases in the clues. We would like to see if this is really true or just a result of human bias. If this were to be true, this might lead to people optimizing stratgies based around knowing the most common answers, or knowing the most common answers that have higher monetary values.\n",
    "\n",
    "References (include links):\n",
    "- 1) https://www.theguardian.com/tv-and-radio/2014/feb/24/arthur-chu-jeopardy-misunderstood-mastermind-game-theory\n",
    "- 2) https://www.dataquest.io/m/210/guided-project%3A-winning-jeopardy"
   ]
  },
  {
   "cell_type": "markdown",
   "metadata": {},
   "source": [
    "### Proposed Methods\n",
    "\n",
    "What methods will you use to analyze your data?\n",
    "\n",
    "- How 'clean' is the data? To the extent that it requires cleaning, how will you do so?\n",
    "- How will you analyze the data? Be as specific as you can. Briefly mention any pre-processing steps that are required for your methods (for example, checking data distributions and performing any transformations that may be required). Include a brief outline of how you will apply your chosen method(s). \n",
    "- What do you plan to report? Briefly mention any key visualizations you plan to create, and/or the kind of results you will be able to report that address your question (this could be, for example, the outcome of some statistical test(s), prediction error on a model, a model fit parameter, etc.).\n",
    "- Include a list of packages you expect to use for you project. If you plan to use packages we have not used in class, add a very brief description about them (a few words is sufficient). "
   ]
  },
  {
   "cell_type": "markdown",
   "metadata": {},
   "source": [
    "*Fill in your proposed methods information here:*\n",
    "\n",
    "*Data Cleaning (2-3 sentences)*\n",
    "\n",
    "The data itself is mostly clean, we would just need to delete a few columns including show air date and show number. Additionally, there are some jeopardy clues that were not properly scraped from the archive and we'll have to do something about that. We figure deleting them, or going through and adding in those entries ourselves. Also, in order to standardize the monetary values, clues in the double jeopardy rounds will have their monetary values cut in half to match the normal jeopardy rounds.\n",
    "\n",
    "*Data Analysis (1-2 paragraphs)*\n",
    "\n",
    "We plan to do a few different graphs, one of them will be a monetary value per clue/category. We also might have to standardize the graph somehow so that the visualizations are more effective. This might include finding the mean value of all clues, and using a graph that shows a difference between a specific clue value and the average. We may also use the scatter matrix as a preview so that we can decide on which graphs to take further and perform more transformations. \n",
    "\n",
    "On almost all of our graphs, the dependent variable will be the monetary value of the clue and the independent variable will be either the clue, or the category. We imagine most of our graphs to be scatter plots of some kind due to the very large and diverse dataset we have. For instance even if we find that one answer might be usd 40 times, there are still 200000+ responses and still tens of thousands of unique answers so a bar graph might look overwhelming. \n",
    "\n",
    "Once we have the graphs done, we may try to run different regression tests to see if we can find any predictive models that might be interesting in terms of the game show.\n",
    "\n",
    "*What to report (2-3 sentences)*\n",
    "\n",
    "We plan to report the descriptions of our key graphs and visualize these descriptions through a few methods. In terms of visualizing the \n",
    "\n",
    "Packages we plan to use:\n",
    "- pandas\n",
    "- mathplotlib\n",
    "- beautifulsoup"
   ]
  },
  {
   "cell_type": "markdown",
   "metadata": {},
   "source": [
    "### Ethics and Privacy\n",
    "\n",
    "Briefly acknowledge and address any potential issues of ethics and privacy for the proposed project. In particular:\n",
    "- Do you have permission to use this data, for this purpose?\n",
    "- Are there privacy concerns regarding your datasets that you need to deal with, and/or terms of use that you need to comply with?\n",
    "- Are there potential biases in your dataset(s), in terms of who it composes, and how it was collected, that may be problematic in terms of it allowing for equitable analysis? (For example, does your data exclude particular populations, or is it likely to reflect particular human biases in a way that could be a problem?) \n",
    "- Are there any other issues related to your topic area, data, and/or analyses that are potentially problematic in terms of data privacy and equitable impact?\n",
    "- How will you handle any issues you identify?\n",
    "\n",
    "(1-2 paragraphs)\n",
    "\n",
    "We do have permission to use this data as the original poster on Reddit gave permission to anyone who wanted to use it. There are not really any privacy concerns as none of this data is linked to any of the contestants personally and explicitly. The only aspect of the dataset that might be an issue is the date of the clue/answer. If a person were so inclined, they could look up the date of the show and figure out who was on it, but all that information is public on the J! Archive anyways. There are almost no potential biases we have found thus far. The data was scraped from the J! archive and does not exclude any of the questions during the time the data was being collected. All Jeopardy questions were included, even if they went unanswered on the show. The Kids', Teens', College Students', and Champions' rounds were all included as well.\n",
    "\n",
    "As of right now, we do not forsee any particular issues in terms of data biases or privacy concerns. However, after further inspection, if we do come across issues, we will discuss it as a team and then bring it to a IA/TA/Professor if we cannot find our own solution to it."
   ]
  },
  {
   "cell_type": "markdown",
   "metadata": {},
   "source": [
    "### Discussion\n",
    "\n",
    "Discuss your project, looking forward to what your results might mean, how they fit it in with what is already known, and what problems you may encounter. \n",
    "\n",
    "In particular:\n",
    "- If your analyses and hypotheses are correct, what will be the contribution of this project to the topic domain? \n",
    "- Alternatively, what will you do if you methods don't work and/or your hypotheses are wrong? \n",
    "- What are the potential pitfalls and potential confounds of your data and/or methods that may cause problems, and/or influence your interpretations?\n",
    "\n",
    "(2-3 paragraphs)"
   ]
  },
  {
   "cell_type": "markdown",
   "metadata": {},
   "source": []
  }
 ],
 "metadata": {
  "kernelspec": {
   "display_name": "Python 3",
   "language": "python",
   "name": "python3"
  },
  "language_info": {
   "codemirror_mode": {
    "name": "ipython",
    "version": 3
   },
   "file_extension": ".py",
   "mimetype": "text/x-python",
   "name": "python",
   "nbconvert_exporter": "python",
   "pygments_lexer": "ipython3",
   "version": "3.6.3"
  }
 },
 "nbformat": 4,
 "nbformat_minor": 2
}
